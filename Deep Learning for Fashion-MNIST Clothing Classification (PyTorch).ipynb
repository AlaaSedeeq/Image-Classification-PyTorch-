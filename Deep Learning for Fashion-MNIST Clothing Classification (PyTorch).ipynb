{
 "cells": [
  {
   "cell_type": "markdown",
   "id": "017d9dfd",
   "metadata": {},
   "source": [
    "## Weight Initialization And Choosing Optimizer (PyTorch)"
   ]
  },
  {
   "cell_type": "markdown",
   "id": "c5e0569b",
   "metadata": {},
   "source": [
    "### Parameter Initialization\n",
    "\n",
    "While training a network, we need to set the weights to values that minimize the convergence between model's output and the training data. And the initial value of the weights plays a significant role here.\n",
    "\n",
    "The initialization step can be critical to the model’s ultimate performance, and it requires the right method.\n",
    "- **Case 0:** Initializing all the weights with `zeros` leads the neurons to learn the same features during training. In fact, any constant initialization scheme will perform very poorly.\n",
    "- **Case 1:** A `too-large` initialization leads to exploding gradients.\n",
    "- **Case 2:** A `too-small` initialization leads to vanishing gradients.\n",
    "\n",
    "To prevent the gradients of the network’s activations from vanishing or exploding, we will stick to the following rules of thumb:\n",
    "\n",
    "- The `mean` of the activations should be `zero`.\n",
    "- The `variance` of the activations should stay the `same across every layer`.\n",
    "\n",
    "**I will try to train the model with `ADAM`, `SGD`, and `RMSProp` optimizers with `normal` and `xavier` ininitialization.**"
   ]
  },
  {
   "cell_type": "markdown",
   "id": "55b32fcc",
   "metadata": {},
   "source": [
    "#### Import the needed functions"
   ]
  },
  {
   "cell_type": "code",
   "execution_count": 31,
   "id": "c431072b",
   "metadata": {},
   "outputs": [],
   "source": [
    "import torch \n",
    "from torch.utils.data import DataLoader\n",
    "from torch.utils.data.sampler import SubsetRandomSampler\n",
    "import torch.nn as nn\n",
    "import torch.nn.functional as F\n",
    "import torchvision\n",
    "from torchvision import transforms, datasets, models\n",
    "import numpy as np\n",
    "from tqdm import tqdm\n",
    "import matplotlib.pyplot as plt\n",
    "from torch.autograd import Variable\n",
    "from collections import namedtuple\n",
    "from IPython.display import Image\n",
    "from torchsummary import summary\n",
    "\n",
    "device = torch.device('cuda' if torch.cuda.is_available() else 'cpu')\n",
    "%matplotlib inline\n",
    "np.random.seed(1)"
   ]
  },
  {
   "cell_type": "markdown",
   "id": "f9e124e0",
   "metadata": {},
   "source": [
    "#### About the data\n",
    "- 28x28 images\n",
    "- 10 classes\n",
    "- Single color channel (Black&White)\n",
    "- Centered objects\n",
    "- 50000 training set members\n",
    "- 10000 test set members\n",
    "\n",
    "**Create `Fashion class` to download and save the data**"
   ]
  },
  {
   "cell_type": "code",
   "execution_count": 2,
   "id": "4d74be8f",
   "metadata": {},
   "outputs": [],
   "source": [
    "# Fashion Class that enables the Dataset download and basic transformations\n",
    "class Fashion(datasets.FashionMNIST):\n",
    "    def __init__(self, root, train=True, transform=None, target_transform=None, download=False):\n",
    "        self.urls = [\n",
    "            'http://fashion-mnist.s3-website.eu-central-1.amazonaws.com/train-images-idx3-ubyte.gz',\n",
    "            'http://fashion-mnist.s3-website.eu-central-1.amazonaws.com/train-labels-idx1-ubyte.gz',\n",
    "            'http://fashion-mnist.s3-website.eu-central-1.amazonaws.com/t10k-images-idx3-ubyte.gz',\n",
    "            'http://fashion-mnist.s3-website.eu-central-1.amazonaws.com/t10k-labels-idx1-ubyte.gz',\n",
    "        ]\n",
    "        super(Fashion, self).__init__(\n",
    "            root, train=train, transform=transform, target_transform=target_transform, download=download\n",
    "        ) "
   ]
  },
  {
   "cell_type": "markdown",
   "id": "b8f7a789",
   "metadata": {},
   "source": [
    "**Download the `train/test` data**"
   ]
  },
  {
   "cell_type": "code",
   "execution_count": 3,
   "id": "99586475",
   "metadata": {
    "scrolled": true
   },
   "outputs": [],
   "source": [
    "# Downloading the data\n",
    "train_data = Fashion('Torch Data/Torch Fashion', train=True, download=True,\n",
    "                     transform=transforms.Compose([transforms.ToTensor(),\n",
    "                                                   transforms.Normalize((0.1307,), (0.3081,))]))\n",
    "\n",
    "test_data = Fashion('Torch Data/Torch Fashion', train=False, download=True,\n",
    "                     transform=transforms.Compose([transforms.ToTensor(),\n",
    "                                                   transforms.Normalize((0.1307,), (0.3081,))]))"
   ]
  },
  {
   "cell_type": "markdown",
   "id": "32d048e8",
   "metadata": {},
   "source": [
    "**Create `decode_label` function to interpret the model classes**"
   ]
  },
  {
   "cell_type": "code",
   "execution_count": 4,
   "id": "12f01d1a",
   "metadata": {},
   "outputs": [],
   "source": [
    "# return class name\n",
    "def decode_label(l):\n",
    "    return train_data.classes[l]"
   ]
  },
  {
   "cell_type": "markdown",
   "id": "bedd153c",
   "metadata": {},
   "source": [
    "**Create `DataLoader` for the training Pipeline**"
   ]
  },
  {
   "cell_type": "code",
   "execution_count": 9,
   "id": "b352e16a",
   "metadata": {},
   "outputs": [],
   "source": [
    "# Create a data loader for train and test data set\n",
    "# Split the train data loader for train/validation\n",
    "train_size = train_data.data.shape[0]\n",
    "val_size, train_size = int(0.20 * train_size), int(0.80 * train_size) # 80 / 20 train-val split\n",
    "test_size = test_data.data.shape[0]\n",
    "batch_size = 100\n",
    "\n",
    "# Add dataset to dataloader that handles batching\n",
    "train_loader = torch.utils.data.DataLoader(train_data, \n",
    "                                           batch_size=batch_size,\n",
    "                                           sampler=SubsetRandomSampler(np.arange(val_size, val_size+train_size)))\n",
    "val_loader = torch.utils.data.DataLoader(train_data, \n",
    "                                           batch_size=batch_size, \n",
    "                                           sampler=SubsetRandomSampler(np.arange(0, val_size)))\n",
    "test_loader = torch.utils.data.DataLoader(test_data, \n",
    "                                          batch_size=batch_size, \n",
    "                                          shuffle=False)"
   ]
  },
  {
   "cell_type": "markdown",
   "id": "9702d674",
   "metadata": {},
   "source": [
    "### Show random samples of the data"
   ]
  },
  {
   "cell_type": "code",
   "execution_count": 6,
   "id": "6ad89fd7",
   "metadata": {},
   "outputs": [
    {
     "data": {
      "image/png": "[encoded data removed]",
      "text/plain": [
       "<Figure size 864x576 with 12 Axes>"
      ]
     },
     "metadata": {
      "needs_background": "light"
     },
     "output_type": "display_data"
    }
   ],
   "source": [
    "fig, axes = plt.subplots(3, 4, figsize=(12,8))\n",
    "for i in range(12):\n",
    "    idx = np.random.randint(train_data.data.shape[0], size=1)[0]\n",
    "    r, c = i // 4, i % 4\n",
    "    img = train_data.data[idx]\n",
    "    label = decode_label(train_data.targets[idx])\n",
    "    axes[r][c].set_title(label)\n",
    "    axes[r][c].axis('off')\n",
    "    axes[r][c].imshow(img.numpy())\n",
    "    \n",
    "plt.draw()"
   ]
  },
  {
   "cell_type": "markdown",
   "id": "b607bd01",
   "metadata": {},
   "source": [
    "### `NN Model`"
   ]
  },
  {
   "cell_type": "markdown",
   "id": "42058eb6",
   "metadata": {},
   "source": [
    "**`HyperParameters initializer`**"
   ]
  },
  {
   "cell_type": "code",
   "execution_count": 7,
   "id": "a85f1f8a",
   "metadata": {},
   "outputs": [],
   "source": [
    "# Parameter class\n",
    "class Parameters:\n",
    "    def __init__(self):\n",
    "        self.input_shape = 28*28\n",
    "        self.hiddens = [64, 32]\n",
    "        self.num_classes = 10\n",
    "        self.n_epochs = 10\n",
    "        self.lr = 0.01\n",
    "        self.batch_size = 100\n",
    "        self.train_val = 0.8 # 80 / 20 train-val split\n",
    "        self.val_size = val_size\n",
    "        self.train_size = train_size\n",
    "        self.test_size = test_size\n",
    "\n",
    "P = Parameters()"
   ]
  },
  {
   "cell_type": "code",
   "execution_count": 8,
   "id": "cff5b4ad",
   "metadata": {},
   "outputs": [
    {
     "name": "stdout",
     "output_type": "stream",
     "text": [
      "NNFashionMNIST(\n",
      "  (linear1): Linear(in_features=784, out_features=64, bias=True)\n",
      "  (linear2): Linear(in_features=64, out_features=32, bias=True)\n",
      "  (linear3): Linear(in_features=32, out_features=10, bias=True)\n",
      "  (relu): ReLU()\n",
      "  (log_softmax): LogSoftmax(dim=1)\n",
      ")\n"
     ]
    }
   ],
   "source": [
    "class NNFashionMNIST(nn.Module):\n",
    "    def __init__(self, P):\n",
    "        super(NNFashionMNIST, self).__init__()\n",
    "        self.linear1 = nn.Linear(P.input_shape, P.hiddens[0])\n",
    "        self.linear2 = nn.Linear(P.hiddens[0], P.hiddens[1])\n",
    "        self.linear3 = nn.Linear(P.hiddens[1], P.num_classes)\n",
    "        self.relu = nn.ReLU()\n",
    "        self.log_softmax = nn.LogSoftmax(dim = 1)\n",
    "        \n",
    "    def forward(self, x):\n",
    "        out = self.relu(self.linear1(x))\n",
    "        out = self.relu(self.linear2(out))\n",
    "        out = self.linear3(out)\n",
    "#         out = self.log_softmax(out)\n",
    "        return out\n",
    "    \n",
    "print(NNFashionMNIST(P))"
   ]
  },
  {
   "cell_type": "markdown",
   "id": "7ca71688",
   "metadata": {},
   "source": [
    "**`Weight initializer`**"
   ]
  },
  {
   "cell_type": "code",
   "execution_count": 9,
   "id": "1b5437a5",
   "metadata": {},
   "outputs": [],
   "source": [
    "# parameter initializer\n",
    "def xavier_init(layer):\n",
    "    if type(layer) == nn.Linear:\n",
    "        feature_in = layer.weight.size(1)\n",
    "        feature_out = layer.weight.size(0)\n",
    "        std = np.sqrt(2.0 / (feature_in+feature_out))\n",
    "        layer.weight.data.normal_(0, std)\n",
    "        \n",
    "# initialize the parameters using \"normal\" distribution\n",
    "def normal_init(m):\n",
    "    if type(m) == nn.Linear:\n",
    "        m.weight.data.normal_(0,1)"
   ]
  },
  {
   "cell_type": "markdown",
   "id": "f3d196b5",
   "metadata": {},
   "source": [
    "**`model inference`**"
   ]
  },
  {
   "cell_type": "code",
   "execution_count": 10,
   "id": "6663bea1",
   "metadata": {},
   "outputs": [],
   "source": [
    "# define a model inference\n",
    "def inference(model, loader, P=P):\n",
    "    model.eval()\n",
    "    with torch.no_grad():\n",
    "        correct = 0\n",
    "        total = 0\n",
    "        for data, labels in loader:\n",
    "            images = Variable(data.view(P.batch_size, -1)).to(device)\n",
    "            labels = Variable(labels).to(device)\n",
    "            output = model(images)\n",
    "            _,predictions = torch.max(output.data, 1)\n",
    "            total += labels.size(0)\n",
    "            correct += (predictions == labels).sum().item()\n",
    "        return correct / total"
   ]
  },
  {
   "cell_type": "markdown",
   "id": "b675e73e",
   "metadata": {},
   "source": [
    "**`Model Trainer`**"
   ]
  },
  {
   "cell_type": "code",
   "execution_count": 11,
   "id": "c53cf853",
   "metadata": {},
   "outputs": [],
   "source": [
    "# Trainer Class\n",
    "class Trainer:\n",
    "    \n",
    "    def __init__(self, model, optimizer, criterion=None, scheduler=None, load_path=None):\n",
    "        self.model = model\n",
    "        self.optimizer = optimizer\n",
    "        self.criterion = criterion if criterion is not None else nn.CrossEntropyLoss\n",
    "        self.scheduler = scheduler\n",
    "        # if model exist\n",
    "        if load_path:\n",
    "            self.model = torch.load(load_path)\n",
    "        \n",
    "    def save_model(self, path):\n",
    "        torch.save(self.model.state_dict(), path)\n",
    "        \n",
    "    def cross_entropy_loss(self, logits, labels):\n",
    "        return F.cross_entropy(logits, labels)\n",
    "        \n",
    "    def run(self, train_loader, val_loader, P=P):\n",
    "        tqdm.refresh\n",
    "        ## Setup Metric class\n",
    "        Metric = namedtuple('Metric', ['train_error', 'val_error'])\n",
    "        self.metrics = []\n",
    "        self.model.train()\n",
    "        # Calculate the validation loss before model tarining\n",
    "        min_valid_loss = np.mean([self.cross_entropy_loss(self.model(g.view(P.batch_size, -1)),l).item() for g, l in val_loader])\n",
    "        # Start trainig\n",
    "        for epoch in range(P.n_epochs):\n",
    "            train_loss = []\n",
    "            correct, total = 0, 0\n",
    "            data_iter = enumerate(train_loader)\n",
    "            t_prog_bar = tqdm(range(len(train_loader)))\n",
    "            for step in t_prog_bar: # iter over batches\n",
    "                \n",
    "                # get the input images and their corresponding labels\n",
    "                batch_idx, (data, labels) = next(data_iter)\n",
    "                # clear the gradient\n",
    "                # Note if we don’t zero the gradients, then in the next iteration when we do a backward pass they will be \n",
    "                # added to the current gradients. This is because pytorch may use multiple sources to calculate the\n",
    "                # gradients and the way it combines them is throught a sum .\n",
    "                self.optimizer.zero_grad()\n",
    "                # wrap them in a torch Variable and move tnsors to the configured device\n",
    "                images, labels = Variable(data.view(P.batch_size, -1)).to(device), Variable(labels).to(device)                                  \n",
    "                # Forward Pass\n",
    "                logits = self.model(images)\n",
    "                # get the predicted class from the maximum value in the output-list of class scores\n",
    "                pred = logits.data.max(1, keepdim=True)[1]\n",
    "                predicted = pred.eq(labels.data.view_as(pred))\n",
    "                # Count the correct\n",
    "                correct += predicted.sum()\n",
    "                # Backward Pass\n",
    "                # Calculate gradients\n",
    "                loss = self.criterion(logits, labels)\n",
    "                loss.backward()\n",
    "                # Update Weights\n",
    "                self.optimizer.step()\n",
    "                # Calculate total Loss\n",
    "                train_loss.append(loss.item())\n",
    "                # Calculate total samples\n",
    "                total += labels.size(0)\n",
    "                                \n",
    "                t_prog_bar.set_description('{} => Epoch {}/{}, Loss: {:.4f}'.format(type(self.optimizer).__name__.upper(),\n",
    "                                                                                 epoch+1, P.n_epochs, loss.item()))\n",
    "            \n",
    "            avg_train_loss = torch.stack([torch.tensor(t) for t in train_loss]).mean()\n",
    "\n",
    "            # Validation\n",
    "            self.model.eval() # Optional when not using Model Specific layer\n",
    "            with torch.no_grad():\n",
    "                val_loss = []\n",
    "                for data, labels in val_loader:\n",
    "                    # Forward Pass\n",
    "                    logits = self.model(data.view(P.batch_size, -1))\n",
    "                    # Find the Loss\n",
    "                    loss = self.criterion(logits,labels)\n",
    "                    # Calculate Loss\n",
    "                    val_loss.append(loss.item())\n",
    "\n",
    "                    t_prog_bar.set_description('Epoch {}/{}, Loss: {:.4f}, Val_Loss: {:.4f}'\\\n",
    "                                               .format(epoch+1, P.n_epochs, loss.item(), sum(val_loss)))\n",
    "               \n",
    "                avg_val_loss = torch.stack([torch.tensor(v) for v in val_loss]).mean()\n",
    "\n",
    "                #Check point\n",
    "                if min_valid_loss > avg_val_loss.numpy().tolist():\n",
    "                    print('Validation Loss Decreased ({:.6f} ===> {:.6f})....Saving The Model'.format(min_valid_loss, avg_val_loss))\n",
    "                    min_valid_loss = avg_val_loss.numpy().tolist()\n",
    "\n",
    "            self.metrics.append(Metric(train_error=avg_train_loss,\n",
    "                                       val_error=avg_val_loss))"
   ]
  },
  {
   "cell_type": "markdown",
   "id": "6e1d65f4",
   "metadata": {},
   "source": [
    "<!-- # # define the criterion\n",
    "# criterion = nn.CrossEntropyLoss()\n",
    "\n",
    "# # Trainer Class\n",
    "# class Trainer:\n",
    "    \n",
    "#     def __init__(self, model, optimizer, criterion, load_path=None):\n",
    "#         self.model = model\n",
    "#         self.optimizer = optimizer\n",
    "#         self.criterion = criterion\n",
    "        \n",
    "#         # if model exist\n",
    "#         if load_path:\n",
    "#             self.model = torch.load(load_path)\n",
    "        \n",
    "#     def save_model(self, path):\n",
    "#         torch.save(self.model.state_dict(), path)\n",
    "        \n",
    "#     def run(self, train_loader, val_loader, P=P):\n",
    "#         ## Setup Metric class\n",
    "#         Metric = namedtuple('Metric', ['loss', 'train_error', 'val_error'])\n",
    "# #         print(\"Start Training...\")\n",
    "#         self.metrics = []\n",
    "#         self.model.train() \n",
    "#         for epoch in range(P.n_epochs):\n",
    "#             epoch_loss = 0.0\n",
    "#             correct = 0\n",
    "#             data_iter = enumerate(train_loader)\n",
    "#             prog_bar = tqdm(range(len(train_loader)))\n",
    "#             for step in prog_bar: # iter over batches\n",
    "#                 batch_idx, (data, labels) = next(data_iter)\n",
    "#                 # Clear the gradients\n",
    "#                 self.optimizer.zero_grad()\n",
    "#                 # Get X, y\n",
    "#                 images = Variable(data.view(P.batch_size, -1)).to(device)\n",
    "#                 labels = Variable(labels).to(device)  \n",
    "#                 # Forward Pass\n",
    "#                 out = self.model(images)\n",
    "#                 _, pred = torch.max(out.data, 1)\n",
    "#                 correct += pred.eq(labels.view_as(pred)).sum()\n",
    "#                 # Calculate the Loss\n",
    "#                 loss = self.criterion(out, labels)\n",
    "# #                 loss = F.nll_loss(out, labels)\n",
    "#                 # Calculate the total Loss\n",
    "#                 epoch_loss += loss.item()\n",
    "#                 # Calculate gradients\n",
    "#                 loss.backward()\n",
    "#                 # Update Weights\n",
    "#                 self.optimizer.step()\n",
    "#                 #Check point\n",
    "#                 prog_bar.set_description('{}: Epoch {}/{}, Loss: {:.4f}' \n",
    "#                                          .format(type(self.optimizer).__name__.upper(), epoch+1, P.n_epochs, loss.item()))\n",
    "#             total_loss = epoch_loss/P.train_size\n",
    "#             train_error = 1.0 - correct/P.train_size  # 1 - acc\n",
    "#             val_error = 1.0 - inference(self.model, val_loader)  # 1 - acc\n",
    "# #             print(\"epoch: {0}, loss: {1:.8f}\".format(epoch+1, total_loss))\n",
    "#             self.metrics.append(Metric(loss=total_loss, \n",
    "#                                        train_error=train_error,\n",
    "#                                        val_error=val_error)) -->"
   ]
  },
  {
   "cell_type": "markdown",
   "id": "eabba729",
   "metadata": {},
   "source": [
    "\n",
    "**Lets try many initializers and optimizers**"
   ]
  },
  {
   "cell_type": "markdown",
   "id": "654705d7",
   "metadata": {},
   "source": [
    "### 1) Normal initialization"
   ]
  },
  {
   "cell_type": "code",
   "execution_count": 12,
   "id": "55efb6ad",
   "metadata": {
    "scrolled": true
   },
   "outputs": [
    {
     "name": "stdout",
     "output_type": "stream",
     "text": [
      "Normal INIT WEIGHTS\n",
      "==>ADAM OPtimizer\n"
     ]
    },
    {
     "name": "stderr",
     "output_type": "stream",
     "text": [
      "ADAM => Epoch 1/10, Loss: 1.7777: 100%|██████████████████████████████████████████████| 480/480 [00:15<00:00, 31.08it/s]\n",
      "  0%|                                                                                          | 0/480 [00:00<?, ?it/s]"
     ]
    },
    {
     "name": "stdout",
     "output_type": "stream",
     "text": [
      "Validation Loss Decreased (1347.378541 ===> 2.120969)....Saving The Model\n"
     ]
    },
    {
     "name": "stderr",
     "output_type": "stream",
     "text": [
      "ADAM => Epoch 2/10, Loss: 1.3452: 100%|██████████████████████████████████████████████| 480/480 [00:14<00:00, 33.85it/s]\n",
      "  0%|                                                                                          | 0/480 [00:00<?, ?it/s]"
     ]
    },
    {
     "name": "stdout",
     "output_type": "stream",
     "text": [
      "Validation Loss Decreased (2.120969 ===> 1.554775)....Saving The Model\n"
     ]
    },
    {
     "name": "stderr",
     "output_type": "stream",
     "text": [
      "ADAM => Epoch 3/10, Loss: 1.2968: 100%|██████████████████████████████████████████████| 480/480 [00:12<00:00, 37.39it/s]\n",
      "ADAM => Epoch 4/10, Loss: 1.1014:   0%|                                                | 1/480 [00:00<00:56,  8.55it/s]"
     ]
    },
    {
     "name": "stdout",
     "output_type": "stream",
     "text": [
      "Validation Loss Decreased (1.554775 ===> 1.428838)....Saving The Model\n"
     ]
    },
    {
     "name": "stderr",
     "output_type": "stream",
     "text": [
      "ADAM => Epoch 4/10, Loss: 1.1014: 100%|██████████████████████████████████████████████| 480/480 [00:12<00:00, 37.43it/s]\n",
      "ADAM => Epoch 5/10, Loss: 1.1623:   0%|                                                | 1/480 [00:00<00:57,  8.27it/s]"
     ]
    },
    {
     "name": "stdout",
     "output_type": "stream",
     "text": [
      "Validation Loss Decreased (1.428838 ===> 1.308555)....Saving The Model\n"
     ]
    },
    {
     "name": "stderr",
     "output_type": "stream",
     "text": [
      "ADAM => Epoch 5/10, Loss: 1.5471: 100%|██████████████████████████████████████████████| 480/480 [00:13<00:00, 36.62it/s]\n",
      "ADAM => Epoch 6/10, Loss: 0.9846:   0%|                                                        | 0/480 [00:00<?, ?it/s]"
     ]
    },
    {
     "name": "stdout",
     "output_type": "stream",
     "text": [
      "Validation Loss Decreased (1.308555 ===> 1.249840)....Saving The Model\n"
     ]
    },
    {
     "name": "stderr",
     "output_type": "stream",
     "text": [
      "ADAM => Epoch 6/10, Loss: 1.1963: 100%|██████████████████████████████████████████████| 480/480 [00:13<00:00, 36.65it/s]\n",
      "ADAM => Epoch 7/10, Loss: 0.9919:   0%|                                                | 1/480 [00:00<00:59,  8.07it/s]"
     ]
    },
    {
     "name": "stdout",
     "output_type": "stream",
     "text": [
      "Validation Loss Decreased (1.249840 ===> 1.193416)....Saving The Model\n"
     ]
    },
    {
     "name": "stderr",
     "output_type": "stream",
     "text": [
      "ADAM => Epoch 7/10, Loss: 0.9631: 100%|██████████████████████████████████████████████| 480/480 [00:13<00:00, 36.66it/s]\n",
      "  0%|                                                                                          | 0/480 [00:00<?, ?it/s]"
     ]
    },
    {
     "name": "stdout",
     "output_type": "stream",
     "text": [
      "Validation Loss Decreased (1.193416 ===> 1.107773)....Saving The Model\n"
     ]
    },
    {
     "name": "stderr",
     "output_type": "stream",
     "text": [
      "ADAM => Epoch 8/10, Loss: 0.8439: 100%|██████████████████████████████████████████████| 480/480 [00:12<00:00, 36.96it/s]\n",
      "ADAM => Epoch 9/10, Loss: 1.1554:   0%|                                                        | 0/480 [00:00<?, ?it/s]"
     ]
    },
    {
     "name": "stdout",
     "output_type": "stream",
     "text": [
      "Validation Loss Decreased (1.107773 ===> 1.069164)....Saving The Model\n"
     ]
    },
    {
     "name": "stderr",
     "output_type": "stream",
     "text": [
      "ADAM => Epoch 9/10, Loss: 0.7563: 100%|██████████████████████████████████████████████| 480/480 [00:13<00:00, 36.78it/s]\n",
      "ADAM => Epoch 10/10, Loss: 0.9469:   0%|                                               | 1/480 [00:00<00:57,  8.27it/s]"
     ]
    },
    {
     "name": "stdout",
     "output_type": "stream",
     "text": [
      "Validation Loss Decreased (1.069164 ===> 0.900645)....Saving The Model\n"
     ]
    },
    {
     "name": "stderr",
     "output_type": "stream",
     "text": [
      "ADAM => Epoch 10/10, Loss: 0.7398: 100%|█████████████████████████████████████████████| 480/480 [00:12<00:00, 37.01it/s]\n"
     ]
    },
    {
     "name": "stdout",
     "output_type": "stream",
     "text": [
      "\n",
      "==>SGD OPtimizer\n"
     ]
    },
    {
     "name": "stderr",
     "output_type": "stream",
     "text": [
      "SGD => Epoch 1/10, Loss: 3.3119: 100%|███████████████████████████████████████████████| 480/480 [00:12<00:00, 37.91it/s]\n",
      "  0%|                                                                                          | 0/480 [00:00<?, ?it/s]"
     ]
    },
    {
     "name": "stdout",
     "output_type": "stream",
     "text": [
      "Validation Loss Decreased (1065.243359 ===> 2.866547)....Saving The Model\n"
     ]
    },
    {
     "name": "stderr",
     "output_type": "stream",
     "text": [
      "SGD => Epoch 2/10, Loss: 1.8880: 100%|███████████████████████████████████████████████| 480/480 [00:12<00:00, 37.89it/s]\n",
      "SGD => Epoch 3/10, Loss: 2.5412:   0%|                                                 | 1/480 [00:00<01:03,  7.58it/s]"
     ]
    },
    {
     "name": "stdout",
     "output_type": "stream",
     "text": [
      "Validation Loss Decreased (2.866547 ===> 2.255208)....Saving The Model\n"
     ]
    },
    {
     "name": "stderr",
     "output_type": "stream",
     "text": [
      "SGD => Epoch 3/10, Loss: 1.9382: 100%|███████████████████████████████████████████████| 480/480 [00:12<00:00, 38.14it/s]\n",
      "SGD => Epoch 4/10, Loss: 1.8313:   0%|                                                 | 1/480 [00:00<01:12,  6.58it/s]"
     ]
    },
    {
     "name": "stdout",
     "output_type": "stream",
     "text": [
      "Validation Loss Decreased (2.255208 ===> 2.148118)....Saving The Model\n"
     ]
    },
    {
     "name": "stderr",
     "output_type": "stream",
     "text": [
      "SGD => Epoch 4/10, Loss: 2.2626: 100%|███████████████████████████████████████████████| 480/480 [00:12<00:00, 38.01it/s]\n",
      "SGD => Epoch 5/10, Loss: 2.4633:   0%|                                                         | 0/480 [00:00<?, ?it/s]"
     ]
    },
    {
     "name": "stdout",
     "output_type": "stream",
     "text": [
      "Validation Loss Decreased (2.148118 ===> 2.086837)....Saving The Model\n"
     ]
    },
    {
     "name": "stderr",
     "output_type": "stream",
     "text": [
      "SGD => Epoch 5/10, Loss: 2.1247: 100%|███████████████████████████████████████████████| 480/480 [00:12<00:00, 37.94it/s]\n",
      "SGD => Epoch 6/10, Loss: 1.6724:   0%|                                                 | 1/480 [00:00<00:50,  9.53it/s]"
     ]
    },
    {
     "name": "stdout",
     "output_type": "stream",
     "text": [
      "Validation Loss Decreased (2.086837 ===> 1.798146)....Saving The Model\n"
     ]
    },
    {
     "name": "stderr",
     "output_type": "stream",
     "text": [
      "SGD => Epoch 6/10, Loss: 1.3354: 100%|███████████████████████████████████████████████| 480/480 [00:12<00:00, 37.67it/s]\n",
      "SGD => Epoch 7/10, Loss: 1.8425:   0%|                                                         | 0/480 [00:00<?, ?it/s]"
     ]
    },
    {
     "name": "stdout",
     "output_type": "stream",
     "text": [
      "Validation Loss Decreased (1.798146 ===> 1.744403)....Saving The Model\n"
     ]
    },
    {
     "name": "stderr",
     "output_type": "stream",
     "text": [
      "SGD => Epoch 7/10, Loss: 1.3132: 100%|███████████████████████████████████████████████| 480/480 [00:12<00:00, 37.17it/s]\n",
      "SGD => Epoch 8/10, Loss: 1.6168: 100%|███████████████████████████████████████████████| 480/480 [00:12<00:00, 38.72it/s]\n",
      "SGD => Epoch 9/10, Loss: 1.4486:   0%|                                                 | 1/480 [00:00<00:54,  8.78it/s]"
     ]
    },
    {
     "name": "stdout",
     "output_type": "stream",
     "text": [
      "Validation Loss Decreased (1.744403 ===> 1.651249)....Saving The Model\n"
     ]
    },
    {
     "name": "stderr",
     "output_type": "stream",
     "text": [
      "SGD => Epoch 9/10, Loss: 1.5926: 100%|███████████████████████████████████████████████| 480/480 [00:12<00:00, 38.90it/s]\n",
      "SGD => Epoch 10/10, Loss: 1.7238:   0%|                                                | 1/480 [00:00<01:13,  6.54it/s]"
     ]
    },
    {
     "name": "stdout",
     "output_type": "stream",
     "text": [
      "Validation Loss Decreased (1.651249 ===> 1.591629)....Saving The Model\n"
     ]
    },
    {
     "name": "stderr",
     "output_type": "stream",
     "text": [
      "SGD => Epoch 10/10, Loss: 1.7293: 100%|██████████████████████████████████████████████| 480/480 [00:12<00:00, 38.44it/s]\n"
     ]
    },
    {
     "name": "stdout",
     "output_type": "stream",
     "text": [
      "Validation Loss Decreased (1.591629 ===> 1.534232)....Saving The Model\n",
      "\n",
      "==>RMSProp OPtimizer\n"
     ]
    },
    {
     "name": "stderr",
     "output_type": "stream",
     "text": [
      "RMSPROP => Epoch 1/10, Loss: 1.8174: 100%|███████████████████████████████████████████| 480/480 [00:12<00:00, 37.89it/s]\n",
      "RMSPROP => Epoch 2/10, Loss: 1.5419:   0%|                                             | 1/480 [00:00<00:58,  8.20it/s]"
     ]
    },
    {
     "name": "stdout",
     "output_type": "stream",
     "text": [
      "Validation Loss Decreased (1434.112474 ===> 1.846976)....Saving The Model\n"
     ]
    },
    {
     "name": "stderr",
     "output_type": "stream",
     "text": [
      "RMSPROP => Epoch 2/10, Loss: 2.9397: 100%|███████████████████████████████████████████| 480/480 [00:12<00:00, 38.04it/s]\n",
      "  0%|                                                                                          | 0/480 [00:00<?, ?it/s]"
     ]
    },
    {
     "name": "stdout",
     "output_type": "stream",
     "text": [
      "Validation Loss Decreased (1.846976 ===> 1.761027)....Saving The Model\n"
     ]
    },
    {
     "name": "stderr",
     "output_type": "stream",
     "text": [
      "RMSPROP => Epoch 3/10, Loss: 1.3158: 100%|███████████████████████████████████████████| 480/480 [00:12<00:00, 38.00it/s]\n",
      "RMSPROP => Epoch 4/10, Loss: 1.1912:   0%|                                                     | 0/480 [00:00<?, ?it/s]"
     ]
    },
    {
     "name": "stdout",
     "output_type": "stream",
     "text": [
      "Validation Loss Decreased (1.761027 ===> 1.312932)....Saving The Model\n"
     ]
    },
    {
     "name": "stderr",
     "output_type": "stream",
     "text": [
      "RMSPROP => Epoch 4/10, Loss: 1.2632: 100%|███████████████████████████████████████████| 480/480 [00:12<00:00, 37.25it/s]\n",
      "RMSPROP => Epoch 5/10, Loss: 1.2770:   0%|                                             | 1/480 [00:00<00:54,  8.85it/s]"
     ]
    },
    {
     "name": "stdout",
     "output_type": "stream",
     "text": [
      "Validation Loss Decreased (1.312932 ===> 1.276723)....Saving The Model\n"
     ]
    },
    {
     "name": "stderr",
     "output_type": "stream",
     "text": [
      "RMSPROP => Epoch 5/10, Loss: 1.1739: 100%|███████████████████████████████████████████| 480/480 [00:13<00:00, 36.89it/s]\n",
      "RMSPROP => Epoch 6/10, Loss: 1.1472:   0%|                                                     | 0/480 [00:00<?, ?it/s]"
     ]
    },
    {
     "name": "stdout",
     "output_type": "stream",
     "text": [
      "Validation Loss Decreased (1.276723 ===> 1.243061)....Saving The Model\n"
     ]
    },
    {
     "name": "stderr",
     "output_type": "stream",
     "text": [
      "RMSPROP => Epoch 6/10, Loss: 1.1414: 100%|███████████████████████████████████████████| 480/480 [00:12<00:00, 37.15it/s]\n",
      "RMSPROP => Epoch 7/10, Loss: 1.0945: 100%|███████████████████████████████████████████| 480/480 [00:12<00:00, 37.03it/s]\n",
      "RMSPROP => Epoch 8/10, Loss: 1.2520: 100%|███████████████████████████████████████████| 480/480 [00:12<00:00, 37.67it/s]\n",
      "RMSPROP => Epoch 9/10, Loss: 1.0246: 100%|███████████████████████████████████████████| 480/480 [00:12<00:00, 37.75it/s]\n",
      "RMSPROP => Epoch 10/10, Loss: 0.9720:   0%|                                            | 1/480 [00:00<00:50,  9.53it/s]"
     ]
    },
    {
     "name": "stdout",
     "output_type": "stream",
     "text": [
      "Validation Loss Decreased (1.243061 ===> 1.150316)....Saving The Model\n"
     ]
    },
    {
     "name": "stderr",
     "output_type": "stream",
     "text": [
      "RMSPROP => Epoch 10/10, Loss: 1.0920: 100%|██████████████████████████████████████████| 480/480 [00:12<00:00, 37.87it/s]\n"
     ]
    },
    {
     "name": "stdout",
     "output_type": "stream",
     "text": [
      "Validation Loss Decreased (1.150316 ===> 1.109744)....Saving The Model\n",
      "\n"
     ]
    }
   ],
   "source": [
    "print(\"Normal INIT WEIGHTS\")\n",
    "\n",
    "criterion = nn.CrossEntropyLoss()\n",
    "\n",
    "#==>ADAM OPtimizer\n",
    "print(\"==>ADAM OPtimizer\")\n",
    "# create model instance\n",
    "normal_model = NNFashionMNIST(P)\n",
    "normal_model.apply(normal_init)\n",
    "\n",
    "AdamOptimizer = torch.optim.Adam(normal_model.parameters(), lr=P.lr)\n",
    "normal_Adam_trainer = Trainer(normal_model, AdamOptimizer, criterion, '')\n",
    "normal_Adam_trainer.run(train_loader, val_loader)\n",
    "normal_Adam_trainer.save_model('./Models/normal_model_ADAM.pt')\n",
    "print('')\n",
    "\n",
    "#==>SGD OPtimizer\n",
    "print(\"==>SGD OPtimizer\")\n",
    "normal_model = NNFashionMNIST(P)\n",
    "normal_model.apply(normal_init)\n",
    "\n",
    "SGDOptimizer = torch.optim.SGD(normal_model.parameters(), lr=P.lr)\n",
    "normal_SGD_trainer = Trainer(normal_model, SGDOptimizer, criterion, '')\n",
    "normal_SGD_trainer.run(train_loader, val_loader)\n",
    "normal_SGD_trainer.save_model('./Models/normal_model_SGD.pt')\n",
    "print('')\n",
    "\n",
    "#==>RMSPROP OPtimizer\n",
    "print(\"==>RMSProp OPtimizer\")\n",
    "normal_model = NNFashionMNIST(P)\n",
    "normal_model.apply(normal_init)\n",
    "\n",
    "RMSpropOptimizer = torch.optim.RMSprop(normal_model.parameters(), lr=P.lr)\n",
    "normal_RMSprop_trainer = Trainer(normal_model, RMSpropOptimizer, criterion, '')\n",
    "normal_RMSprop_trainer.run(train_loader, val_loader)\n",
    "normal_RMSprop_trainer.save_model('./Models/normal_model_RMSprop.pt')\n",
    "print('')"
   ]
  },
  {
   "cell_type": "code",
   "execution_count": 13,
   "id": "64039bb9",
   "metadata": {},
   "outputs": [
    {
     "data": {
      "image/png": "[encoded data removed]",
      "text/plain": [
       "<Figure size 1440x576 with 3 Axes>"
      ]
     },
     "metadata": {
      "needs_background": "light"
     },
     "output_type": "display_data"
    }
   ],
   "source": [
    "fig, axes = plt.subplots(1, 3, figsize=(20,8))\n",
    "m = [normal_Adam_trainer.metrics, normal_SGD_trainer.metrics, normal_RMSprop_trainer.metrics]\n",
    "\n",
    "for i, (metrics, opt) in enumerate(zip(m, ['ADAM','SGD','RMSProp'])):\n",
    "    axes[i].plot([metric for metric in metrics])\n",
    "    axes[i].set_title(f'{opt} Training & Validation Loss')\n",
    "    axes[i].legend(['Average train error', 'Average validation error'])"
   ]
  },
  {
   "cell_type": "markdown",
   "id": "f416dc49",
   "metadata": {},
   "source": [
    "#### Models test using train data"
   ]
  },
  {
   "cell_type": "code",
   "execution_count": 14,
   "id": "df465257",
   "metadata": {},
   "outputs": [
    {
     "name": "stdout",
     "output_type": "stream",
     "text": [
      "Test accuracy of model optimizer with Adam: 70.71 %\n",
      "Test accuracy of model optimizer with SGD: 49.28 %\n",
      "Test accuracy of model optimizer with RMSProp: 51.99 %\n"
     ]
    }
   ],
   "source": [
    "model = NNFashionMNIST(P)\n",
    "model.load_state_dict(torch.load('./Models/normal_model_ADAM.pt'))\n",
    "test_acc = inference(model, test_loader)\n",
    "print(\"Test accuracy of model optimizer with Adam: {0:.2f} %\".format(test_acc * 100))\n",
    "\n",
    "model = NNFashionMNIST(P)\n",
    "model.load_state_dict(torch.load('./Models/normal_model_SGD.pt'))\n",
    "test_acc = inference(model, test_loader)\n",
    "print(\"Test accuracy of model optimizer with SGD: {0:.2f} %\".format(test_acc * 100))\n",
    "\n",
    "model = NNFashionMNIST(P)\n",
    "model.load_state_dict(torch.load('./Models/normal_model_RMSprop.pt'))\n",
    "test_acc = inference(model, test_loader)\n",
    "print(\"Test accuracy of model optimizer with RMSProp: {0:.2f} %\".format(test_acc * 100))"
   ]
  },
  {
   "cell_type": "markdown",
   "id": "e6c76839",
   "metadata": {},
   "source": [
    "### 2) Xavier initializer"
   ]
  },
  {
   "cell_type": "code",
   "execution_count": 15,
   "id": "1d402bd1",
   "metadata": {
    "scrolled": true
   },
   "outputs": [
    {
     "name": "stdout",
     "output_type": "stream",
     "text": [
      "XAVIER INIT WEIGHTS\n",
      "==>ADAM OPtimizer\n"
     ]
    },
    {
     "name": "stderr",
     "output_type": "stream",
     "text": [
      "ADAM => Epoch 1/10, Loss: 0.4064: 100%|██████████████████████████████████████████████| 480/480 [00:13<00:00, 34.96it/s]\n",
      "ADAM => Epoch 2/10, Loss: 0.4189:   0%|                                                | 1/480 [00:00<01:05,  7.36it/s]"
     ]
    },
    {
     "name": "stdout",
     "output_type": "stream",
     "text": [
      "Validation Loss Decreased (2.893160 ===> 0.430379)....Saving The Model\n"
     ]
    },
    {
     "name": "stderr",
     "output_type": "stream",
     "text": [
      "ADAM => Epoch 2/10, Loss: 0.3413: 100%|██████████████████████████████████████████████| 480/480 [00:13<00:00, 35.44it/s]\n",
      "ADAM => Epoch 3/10, Loss: 0.2889:   0%|                                                | 1/480 [00:00<01:17,  6.21it/s]"
     ]
    },
    {
     "name": "stdout",
     "output_type": "stream",
     "text": [
      "Validation Loss Decreased (0.430379 ===> 0.406927)....Saving The Model\n"
     ]
    },
    {
     "name": "stderr",
     "output_type": "stream",
     "text": [
      "ADAM => Epoch 3/10, Loss: 0.3393: 100%|██████████████████████████████████████████████| 480/480 [00:13<00:00, 35.77it/s]\n",
      "ADAM => Epoch 4/10, Loss: 0.4447: 100%|██████████████████████████████████████████████| 480/480 [00:13<00:00, 35.75it/s]\n",
      "ADAM => Epoch 5/10, Loss: 0.3704: 100%|██████████████████████████████████████████████| 480/480 [00:13<00:00, 34.97it/s]\n",
      "ADAM => Epoch 6/10, Loss: 0.2978:   0%|                                                        | 0/480 [00:00<?, ?it/s]"
     ]
    },
    {
     "name": "stdout",
     "output_type": "stream",
     "text": [
      "Validation Loss Decreased (0.406927 ===> 0.393616)....Saving The Model\n"
     ]
    },
    {
     "name": "stderr",
     "output_type": "stream",
     "text": [
      "ADAM => Epoch 6/10, Loss: 0.3457: 100%|██████████████████████████████████████████████| 480/480 [00:13<00:00, 35.21it/s]\n",
      "ADAM => Epoch 7/10, Loss: 0.4018:   0%|                                                | 1/480 [00:00<01:02,  7.64it/s]"
     ]
    },
    {
     "name": "stdout",
     "output_type": "stream",
     "text": [
      "Validation Loss Decreased (0.393616 ===> 0.387785)....Saving The Model\n"
     ]
    },
    {
     "name": "stderr",
     "output_type": "stream",
     "text": [
      "ADAM => Epoch 7/10, Loss: 0.2985: 100%|██████████████████████████████████████████████| 480/480 [00:12<00:00, 37.11it/s]\n",
      "ADAM => Epoch 8/10, Loss: 0.1806:   0%|                                                | 1/480 [00:00<01:14,  6.46it/s]"
     ]
    },
    {
     "name": "stdout",
     "output_type": "stream",
     "text": [
      "Validation Loss Decreased (0.387785 ===> 0.373821)....Saving The Model\n"
     ]
    },
    {
     "name": "stderr",
     "output_type": "stream",
     "text": [
      "ADAM => Epoch 8/10, Loss: 0.3239: 100%|██████████████████████████████████████████████| 480/480 [00:12<00:00, 37.51it/s]\n",
      "ADAM => Epoch 9/10, Loss: 0.1961: 100%|██████████████████████████████████████████████| 480/480 [00:12<00:00, 37.45it/s]\n",
      "ADAM => Epoch 10/10, Loss: 0.2802:   0%|                                               | 1/480 [00:00<00:55,  8.70it/s]"
     ]
    },
    {
     "name": "stdout",
     "output_type": "stream",
     "text": [
      "Validation Loss Decreased (0.373821 ===> 0.372175)....Saving The Model\n"
     ]
    },
    {
     "name": "stderr",
     "output_type": "stream",
     "text": [
      "ADAM => Epoch 10/10, Loss: 0.3254: 100%|█████████████████████████████████████████████| 480/480 [00:12<00:00, 37.92it/s]\n"
     ]
    },
    {
     "name": "stdout",
     "output_type": "stream",
     "text": [
      "\n",
      "==>SGD OPtimizer\n"
     ]
    },
    {
     "name": "stderr",
     "output_type": "stream",
     "text": [
      "SGD => Epoch 1/10, Loss: 0.5013: 100%|███████████████████████████████████████████████| 480/480 [00:12<00:00, 38.62it/s]\n",
      "SGD => Epoch 2/10, Loss: 0.4918:   0%|                                                         | 0/480 [00:00<?, ?it/s]"
     ]
    },
    {
     "name": "stdout",
     "output_type": "stream",
     "text": [
      "Validation Loss Decreased (2.626241 ===> 0.565778)....Saving The Model\n"
     ]
    },
    {
     "name": "stderr",
     "output_type": "stream",
     "text": [
      "SGD => Epoch 2/10, Loss: 0.4958: 100%|███████████████████████████████████████████████| 480/480 [00:12<00:00, 38.68it/s]\n",
      "SGD => Epoch 3/10, Loss: 0.4219:   0%|                                                 | 1/480 [00:00<00:52,  9.10it/s]"
     ]
    },
    {
     "name": "stdout",
     "output_type": "stream",
     "text": [
      "Validation Loss Decreased (0.565778 ===> 0.524231)....Saving The Model\n"
     ]
    },
    {
     "name": "stderr",
     "output_type": "stream",
     "text": [
      "SGD => Epoch 3/10, Loss: 0.5019: 100%|███████████████████████████████████████████████| 480/480 [00:12<00:00, 38.38it/s]\n",
      "  0%|                                                                                          | 0/480 [00:00<?, ?it/s]"
     ]
    },
    {
     "name": "stdout",
     "output_type": "stream",
     "text": [
      "Validation Loss Decreased (0.524231 ===> 0.464952)....Saving The Model\n"
     ]
    },
    {
     "name": "stderr",
     "output_type": "stream",
     "text": [
      "SGD => Epoch 4/10, Loss: 0.4955: 100%|███████████████████████████████████████████████| 480/480 [00:12<00:00, 38.05it/s]\n",
      "SGD => Epoch 5/10, Loss: 0.4260:   0%|                                                         | 0/480 [00:00<?, ?it/s]"
     ]
    },
    {
     "name": "stdout",
     "output_type": "stream",
     "text": [
      "Validation Loss Decreased (0.464952 ===> 0.444818)....Saving The Model\n"
     ]
    },
    {
     "name": "stderr",
     "output_type": "stream",
     "text": [
      "SGD => Epoch 5/10, Loss: 0.4625: 100%|███████████████████████████████████████████████| 480/480 [00:12<00:00, 37.62it/s]\n",
      "SGD => Epoch 6/10, Loss: 0.4206:   0%|                                                 | 1/480 [00:00<00:56,  8.48it/s]"
     ]
    },
    {
     "name": "stdout",
     "output_type": "stream",
     "text": [
      "Validation Loss Decreased (0.444818 ===> 0.423310)....Saving The Model\n"
     ]
    },
    {
     "name": "stderr",
     "output_type": "stream",
     "text": [
      "SGD => Epoch 6/10, Loss: 0.3775: 100%|███████████████████████████████████████████████| 480/480 [00:12<00:00, 38.10it/s]\n",
      "SGD => Epoch 7/10, Loss: 0.4336:   0%|                                                 | 1/480 [00:00<01:15,  6.33it/s]"
     ]
    },
    {
     "name": "stdout",
     "output_type": "stream",
     "text": [
      "Validation Loss Decreased (0.423310 ===> 0.406412)....Saving The Model\n"
     ]
    },
    {
     "name": "stderr",
     "output_type": "stream",
     "text": [
      "SGD => Epoch 7/10, Loss: 0.4947: 100%|███████████████████████████████████████████████| 480/480 [00:12<00:00, 38.24it/s]\n",
      "SGD => Epoch 8/10, Loss: 0.3908: 100%|███████████████████████████████████████████████| 480/480 [00:12<00:00, 37.82it/s]\n",
      "SGD => Epoch 9/10, Loss: 0.3645:   0%|                                                 | 1/480 [00:00<00:54,  8.85it/s]"
     ]
    },
    {
     "name": "stdout",
     "output_type": "stream",
     "text": [
      "Validation Loss Decreased (0.406412 ===> 0.399494)....Saving The Model\n"
     ]
    },
    {
     "name": "stderr",
     "output_type": "stream",
     "text": [
      "SGD => Epoch 9/10, Loss: 0.3944: 100%|███████████████████████████████████████████████| 480/480 [00:12<00:00, 38.03it/s]\n",
      "  0%|                                                                                          | 0/480 [00:00<?, ?it/s]"
     ]
    },
    {
     "name": "stdout",
     "output_type": "stream",
     "text": [
      "Validation Loss Decreased (0.399494 ===> 0.384142)....Saving The Model\n"
     ]
    },
    {
     "name": "stderr",
     "output_type": "stream",
     "text": [
      "SGD => Epoch 10/10, Loss: 0.4205: 100%|██████████████████████████████████████████████| 480/480 [00:12<00:00, 37.79it/s]\n"
     ]
    },
    {
     "name": "stdout",
     "output_type": "stream",
     "text": [
      "\n",
      "==>RMSPROP OPtimizer\n"
     ]
    },
    {
     "name": "stderr",
     "output_type": "stream",
     "text": [
      "RMSPROP => Epoch 1/10, Loss: 0.4411: 100%|███████████████████████████████████████████| 480/480 [00:12<00:00, 37.21it/s]\n",
      "RMSPROP => Epoch 2/10, Loss: 0.4371:   0%|                                             | 1/480 [00:00<00:55,  8.70it/s]"
     ]
    },
    {
     "name": "stdout",
     "output_type": "stream",
     "text": [
      "Validation Loss Decreased (2.538245 ===> 0.474446)....Saving The Model\n"
     ]
    },
    {
     "name": "stderr",
     "output_type": "stream",
     "text": [
      "RMSPROP => Epoch 2/10, Loss: 0.5279: 100%|███████████████████████████████████████████| 480/480 [00:12<00:00, 37.63it/s]\n",
      "RMSPROP => Epoch 3/10, Loss: 0.5347: 100%|███████████████████████████████████████████| 480/480 [00:13<00:00, 36.49it/s]\n",
      "RMSPROP => Epoch 4/10, Loss: 0.2475:   0%|                                             | 1/480 [00:00<01:16,  6.29it/s]"
     ]
    },
    {
     "name": "stdout",
     "output_type": "stream",
     "text": [
      "Validation Loss Decreased (0.474446 ===> 0.457434)....Saving The Model\n"
     ]
    },
    {
     "name": "stderr",
     "output_type": "stream",
     "text": [
      "RMSPROP => Epoch 4/10, Loss: 0.5910: 100%|███████████████████████████████████████████| 480/480 [00:12<00:00, 38.38it/s]\n",
      "RMSPROP => Epoch 5/10, Loss: 0.3969:   0%|                                             | 1/480 [00:00<00:53,  9.01it/s]"
     ]
    },
    {
     "name": "stdout",
     "output_type": "stream",
     "text": [
      "Validation Loss Decreased (0.457434 ===> 0.439966)....Saving The Model\n"
     ]
    },
    {
     "name": "stderr",
     "output_type": "stream",
     "text": [
      "RMSPROP => Epoch 5/10, Loss: 0.5577: 100%|███████████████████████████████████████████| 480/480 [00:12<00:00, 38.37it/s]\n",
      "RMSPROP => Epoch 6/10, Loss: 0.3707: 100%|███████████████████████████████████████████| 480/480 [00:12<00:00, 38.21it/s]\n",
      "RMSPROP => Epoch 7/10, Loss: 0.2608: 100%|███████████████████████████████████████████| 480/480 [00:12<00:00, 38.55it/s]\n",
      "RMSPROP => Epoch 8/10, Loss: 0.3257:   0%|                                             | 1/480 [00:00<00:52,  9.10it/s]"
     ]
    },
    {
     "name": "stdout",
     "output_type": "stream",
     "text": [
      "Validation Loss Decreased (0.439966 ===> 0.427459)....Saving The Model\n"
     ]
    },
    {
     "name": "stderr",
     "output_type": "stream",
     "text": [
      "RMSPROP => Epoch 8/10, Loss: 0.1983: 100%|███████████████████████████████████████████| 480/480 [00:12<00:00, 38.09it/s]\n",
      "RMSPROP => Epoch 9/10, Loss: 0.3940:   0%|                                                     | 0/480 [00:00<?, ?it/s]"
     ]
    },
    {
     "name": "stdout",
     "output_type": "stream",
     "text": [
      "Validation Loss Decreased (0.427459 ===> 0.402057)....Saving The Model\n"
     ]
    },
    {
     "name": "stderr",
     "output_type": "stream",
     "text": [
      "RMSPROP => Epoch 9/10, Loss: 0.4489: 100%|███████████████████████████████████████████| 480/480 [00:12<00:00, 38.18it/s]\n",
      "RMSPROP => Epoch 10/10, Loss: 0.5593: 100%|██████████████████████████████████████████| 480/480 [00:12<00:00, 38.31it/s]\n"
     ]
    },
    {
     "name": "stdout",
     "output_type": "stream",
     "text": [
      "\n"
     ]
    }
   ],
   "source": [
    "print(\"XAVIER INIT WEIGHTS\")\n",
    "\n",
    "print(\"==>ADAM OPtimizer\")\n",
    "# create model instance\n",
    "xavier_Adam_model = NNFashionMNIST(P)\n",
    "xavier_Adam_model.apply(xavier_init)\n",
    "\n",
    "AdamOptimizer = torch.optim.Adam(xavier_Adam_model.parameters(), lr=P.lr)\n",
    "xavier_Adam_trainer = Trainer(xavier_Adam_model, AdamOptimizer, criterion, '')\n",
    "xavier_Adam_trainer.run(train_loader, val_loader)\n",
    "xavier_Adam_trainer.save_model('./models/xavier_model_ADAM.pt')\n",
    "print('')\n",
    "\n",
    "\n",
    "print(\"==>SGD OPtimizer\")\n",
    "xavier_SGD_model = NNFashionMNIST(P)\n",
    "xavier_SGD_model.apply(xavier_init)\n",
    "\n",
    "SGDOptimizer = torch.optim.SGD(xavier_SGD_model.parameters(), lr=P.lr)\n",
    "xavier_SGD_trainer = Trainer(xavier_SGD_model, SGDOptimizer, criterion, '')\n",
    "xavier_SGD_trainer.run(train_loader, val_loader)\n",
    "xavier_SGD_trainer.save_model('./models/xavier_model_SGD.pt')\n",
    "print('')\n",
    "\n",
    "print(\"==>RMSPROP OPtimizer\")\n",
    "xavier_RMSprop_model = NNFashionMNIST(P)\n",
    "xavier_RMSprop_model.apply(xavier_init)\n",
    "\n",
    "RMSpropOptimizer = torch.optim.RMSprop(xavier_RMSprop_model.parameters(), lr=P.lr)\n",
    "xavier_RMSprop_trainer = Trainer(xavier_RMSprop_model, RMSpropOptimizer, criterion, '')\n",
    "xavier_RMSprop_trainer.run(train_loader, val_loader)\n",
    "xavier_RMSprop_trainer.save_model('./Models/xavier_model_RMSprop.pt')\n",
    "print('')"
   ]
  },
  {
   "cell_type": "code",
   "execution_count": 16,
   "id": "b6c97ca4",
   "metadata": {},
   "outputs": [
    {
     "data": {
      "image/png": "[encoded data removed]",
      "text/plain": [
       "<Figure size 1440x576 with 3 Axes>"
      ]
     },
     "metadata": {
      "needs_background": "light"
     },
     "output_type": "display_data"
    }
   ],
   "source": [
    "fig, axes = plt.subplots(1, 3, figsize=(20,8))\n",
    "m = [xavier_Adam_trainer.metrics, xavier_SGD_trainer.metrics, xavier_RMSprop_trainer.metrics]\n",
    "\n",
    "for i, (metrics, opt) in enumerate(zip(m, ['ADAM','SGD','RMSProp'])):\n",
    "    axes[i].plot([metric for metric in metrics])\n",
    "    axes[i].set_title(f'{opt} Training & Validation Loss')"
   ]
  },
  {
   "cell_type": "markdown",
   "id": "a50c3d78",
   "metadata": {},
   "source": [
    "> ### So, the model converges faster when initializing the weights using xavier initializer."
   ]
  },
  {
   "cell_type": "code",
   "execution_count": 17,
   "id": "f336d33e",
   "metadata": {},
   "outputs": [
    {
     "name": "stdout",
     "output_type": "stream",
     "text": [
      "Test accuracy of model optimizer with Adam: 85.92 %\n",
      "Test accuracy of model optimizer with SGD: 84.86 %\n",
      "Test accuracy of model optimizer with RMSProp: 83.34 %\n"
     ]
    }
   ],
   "source": [
    "model = NNFashionMNIST(P)\n",
    "model.load_state_dict(torch.load('./Models/xavier_model_ADAM.pt'))\n",
    "test_acc = inference(model, test_loader)\n",
    "print(\"Test accuracy of model optimizer with Adam: {0:.2f} %\".format(test_acc * 100))\n",
    "\n",
    "model = NNFashionMNIST(P)\n",
    "model.load_state_dict(torch.load('./Models/xavier_model_SGD.pt'))\n",
    "test_acc = inference(model, test_loader)\n",
    "print(\"Test accuracy of model optimizer with SGD: {0:.2f} %\".format(test_acc * 100))\n",
    "\n",
    "model = NNFashionMNIST(P)\n",
    "model.load_state_dict(torch.load('./Models/xavier_model_RMSprop.pt'))\n",
    "test_acc = inference(model, test_loader)\n",
    "print(\"Test accuracy of model optimizer with RMSProp: {0:.2f} %\".format(test_acc * 100))"
   ]
  },
  {
   "cell_type": "markdown",
   "id": "869f2a03",
   "metadata": {},
   "source": [
    "> #### Of course ADAM Optimizer is the best !!"
   ]
  },
  {
   "cell_type": "markdown",
   "id": "f8628b54",
   "metadata": {},
   "source": [
    "### Lets enhance the model's performance using CNN architecture"
   ]
  },
  {
   "cell_type": "markdown",
   "id": "2f2f0b8b",
   "metadata": {},
   "source": [
    "### `CNN Model`"
   ]
  },
  {
   "cell_type": "markdown",
   "id": "32305c99",
   "metadata": {},
   "source": [
    "**`Weight initializer`**"
   ]
  },
  {
   "cell_type": "code",
   "execution_count": 10,
   "id": "a0f7a1cd",
   "metadata": {},
   "outputs": [],
   "source": [
    "def weight_init(m):\n",
    "    if isinstance(m, nn.Conv2d):\n",
    "        nn.init.xavier_normal_(m.weight.data)\n",
    "        if m.bias is not None:\n",
    "            nn.init.normal_(m.bias.data)\n",
    "    elif isinstance(m, nn.BatchNorm2d):\n",
    "        nn.init.xavier_normal_(m.weight.data, mean=1, std=0.02)\n",
    "        nn.init.constant_(m.bias.data, 0)\n",
    "    elif isinstance(m, nn.Linear):\n",
    "        nn.init.xavier_normal_(m.weight.data, mean=1, std=0.02)\n",
    "        nn.init.constant_(m.bias.data, 0)"
   ]
  },
  {
   "cell_type": "markdown",
   "id": "9390b38e",
   "metadata": {},
   "source": [
    "**`Swish Activation Function`**"
   ]
  },
  {
   "cell_type": "code",
   "execution_count": 11,
   "id": "02c20f35",
   "metadata": {},
   "outputs": [],
   "source": [
    "class Swish(nn.Module):\n",
    "    def forward(self, input):\n",
    "        return (input * torch.sigmoid(input))\n",
    "    \n",
    "    def __repr__(self):\n",
    "        return self.__class__.__name__ + ' ()'"
   ]
  },
  {
   "cell_type": "markdown",
   "id": "fb5fc373",
   "metadata": {},
   "source": [
    "**`HyperParameters initilizer`**"
   ]
  },
  {
   "cell_type": "code",
   "execution_count": 12,
   "id": "fbb701d8",
   "metadata": {},
   "outputs": [],
   "source": [
    "# Parameter class\n",
    "class Parameters:\n",
    "    def __init__(self):\n",
    "        self.input_shape = (1, 28, 28)\n",
    "        self.hiddens_filters = [16, 32, 64]\n",
    "        self.num_classes = 10\n",
    "        self.n_epochs = 5\n",
    "        self.lr = 0.015\n",
    "        self.batch_size = 100\n",
    "        self.train_val = 0.8 # 80 / 20 train-val split\n",
    "        self.val_size = val_size\n",
    "        self.train_size = train_size\n",
    "        self.test_size = test_size\n",
    "        \n",
    "P = Parameters()"
   ]
  },
  {
   "cell_type": "markdown",
   "id": "6b87f047",
   "metadata": {},
   "source": [
    "* The important thing to remember is to not include the softmax or sigmoid output in your network when using these loss functions `(LogSumExp, Softmax, Cross-Entropy, Cross-Entropy of Softmax)`. \n",
    "* The softmax or sigmoid are already included in the loss function and you don't want to accidentally apply them twice.\n",
    "* You can build a network without using the trick, but you may or may not end up getting NaN errors.\n",
    "\n",
    "* `nn.CrossEntropyLoss()` combines `nn.LogSoftmax() (log(softmax(x)))` and `nn.NLLLoss()` in one single class. \n",
    "Therefore, the output from the network that is passed into nn.CrossEntropyLoss needs to be the raw output of the network \n",
    "(called logits), not the output of the softmax function."
   ]
  },
  {
   "cell_type": "code",
   "execution_count": 13,
   "id": "26f6e212",
   "metadata": {},
   "outputs": [
    {
     "name": "stdout",
     "output_type": "stream",
     "text": [
      "CNNFashionMNIST(\n",
      "  (layer1): Sequential(\n",
      "    (0): Conv2d(1, 16, kernel_size=(3, 3), stride=(1, 1), padding=(1, 1))\n",
      "    (1): BatchNorm2d(16, eps=1e-05, momentum=0.1, affine=True, track_running_stats=True)\n",
      "    (2): Swish ()\n",
      "    (3): MaxPool2d(kernel_size=2, stride=1, padding=0, dilation=1, ceil_mode=False)\n",
      "  )\n",
      "  (layer2): Sequential(\n",
      "    (0): Conv2d(16, 32, kernel_size=(3, 3), stride=(1, 1), padding=(1, 1))\n",
      "    (1): BatchNorm2d(32, eps=1e-05, momentum=0.1, affine=True, track_running_stats=True)\n",
      "    (2): Swish ()\n",
      "    (3): MaxPool2d(kernel_size=2, stride=1, padding=0, dilation=1, ceil_mode=False)\n",
      "  )\n",
      "  (fc1): Linear(in_features=21632, out_features=10, bias=True)\n",
      "  (softmax): LogSoftmax(dim=1)\n",
      ")\n"
     ]
    }
   ],
   "source": [
    "class CNNFashionMNIST(nn.Module):\n",
    "    \n",
    "    def __init__(self, P):\n",
    "        super(CNNFashionMNIST, self).__init__()\n",
    "        self.ch, self.h, self.w = P.input_shape\n",
    "        self.layer1 = nn.Sequential(\n",
    "            nn.Conv2d(in_channels=self.ch, \n",
    "                      out_channels=P.hiddens_filters[0],\n",
    "                      kernel_size=3, stride=1, padding=1),\n",
    "            nn.BatchNorm2d(P.hiddens_filters[0]),\n",
    "            Swish(),\n",
    "            nn.MaxPool2d(kernel_size=2, stride=1)\n",
    "            \n",
    "        )\n",
    "        \n",
    "        self.layer2 = nn.Sequential(\n",
    "            nn.Conv2d(in_channels=P.hiddens_filters[0], \n",
    "                      out_channels=P.hiddens_filters[1],\n",
    "                      kernel_size=3, stride=1, padding=1),\n",
    "            nn.BatchNorm2d(P.hiddens_filters[1]),\n",
    "            Swish(),\n",
    "            nn.MaxPool2d(kernel_size=2, stride=1)\n",
    "        )\n",
    "        \n",
    "#         self.layer3 = nn.Sequential(\n",
    "#             nn.Conv2d(in_channels=P.hiddens_filters[1], \n",
    "#                       out_channels=P.hiddens_filters[2],\n",
    "#                       kernel_size=3, stride=1, padding=1),\n",
    "#             nn.BatchNorm2d(P.hiddens_filters[2]),\n",
    "#             Swish(),\n",
    "#             nn.MaxPool2d(kernel_size=2, stride=1)\n",
    "#         )\n",
    "        \n",
    "        flatten_shape = self._get_conv_output((self.ch, self.h, self.w))\n",
    "        self.fc1 = nn.Linear(flatten_shape, P.num_classes)\n",
    "        self.softmax = nn.LogSoftmax(dim=1)\n",
    "    \n",
    "    def _get_conv_output(self, shape):\n",
    "        bs = 1\n",
    "        dummy_x = torch.empty(bs, *shape)\n",
    "        x = self._forward_features(dummy_x)\n",
    "        CNN_outshape = x.flatten(1).size(1)\n",
    "        return CNN_outshape\n",
    "\n",
    "    def _forward_features(self, x):\n",
    "        x = self.layer1(x)\n",
    "        x = self.layer2(x)\n",
    "#         x = self.layer3(x)\n",
    "        return x\n",
    "    \n",
    "    def forward(self, x):\n",
    "        out = self.layer1(x)\n",
    "        out = self.layer2(out)\n",
    "#         out = self.layer3(out)\n",
    "        out = out.view(out.size(0), -1)\n",
    "        out = self.fc1(out)\n",
    "#         out = self.drpout(out)\n",
    "#         out = self.fc2(out)\n",
    "#         out = self.drpout(out)\n",
    "#         out = self.softmax(out)\n",
    "        return out\n",
    "    \n",
    "print(CNNFashionMNIST(P))"
   ]
  },
  {
   "cell_type": "code",
   "execution_count": 14,
   "id": "a2341c27",
   "metadata": {},
   "outputs": [],
   "source": [
    "# define a model inference\n",
    "def inference(model, loader):\n",
    "    model.eval()\n",
    "    with torch.no_grad():\n",
    "        correct = 0\n",
    "        total = 0\n",
    "        for data, labels in loader:\n",
    "            images = Variable(data).to(device)\n",
    "            labels = Variable(labels).to(device)\n",
    "            output = model(images)\n",
    "            _,predictions = torch.max(output.data, 1)\n",
    "            total += labels.size(0)\n",
    "            correct += (predictions == labels).sum().item()\n",
    "        return correct / total"
   ]
  },
  {
   "cell_type": "markdown",
   "id": "5c932513",
   "metadata": {},
   "source": [
    "**`Model Trainer`**"
   ]
  },
  {
   "cell_type": "code",
   "execution_count": 39,
   "id": "a912b597",
   "metadata": {},
   "outputs": [],
   "source": [
    "#########################################\n",
    "#            Trainer Class              #\n",
    "#########################################\n",
    "\n",
    "class Trainer:\n",
    "    \n",
    "    def __init__(self, model, optimizer, criterion, scheduler=None, load_path=None):\n",
    "        self.__class__.__name__ = \"PyTorch Trainer\"\n",
    "        self.model = model\n",
    "        self.optimizer = optimizer\n",
    "        self.criterion = criterion\n",
    "        self.scheduler = scheduler\n",
    "        tqdm.refresh\n",
    "        ## Setup Metric class\n",
    "        self.metrics = namedtuple('Metric', ['loss', 'train_error', 'val_error'])\n",
    "        \n",
    "        # if model exist\n",
    "        if load_path:\n",
    "            self.model = torch.load(load_path)\n",
    "        \n",
    "    def save_model(self, path):\n",
    "        torch.save(self.model.state_dict(), path)\n",
    "        \n",
    "    def run(self, train_loader, val_loader):\n",
    "        min_valid_loss = np.inf\n",
    "        ## Setup Metric class\n",
    "        Metric = namedtuple('Metric', ['loss', 'train_error', 'val_error'])\n",
    "        self.metrics = []\n",
    "        self.model.train() \n",
    "        min_valid_loss = np.mean([self.criterion(self.model(g),l).item() for g, l in val_loader])\n",
    "        for epoch in range(P.n_epochs):\n",
    "            epoch_loss = 0.0\n",
    "            correct = 0\n",
    "            total = 0\n",
    "            data_iter = enumerate(train_loader)\n",
    "            t_prog_bar = tqdm(range(len(train_loader)))\n",
    "#             lr = self.scheduler.get_last_lr()[0]\n",
    "            lr = self.optimizer.param_groups[0]['lr']\n",
    "            for step in t_prog_bar: # iter over batches\n",
    "                \n",
    "                # get the input images and their corresponding labels\n",
    "                batch_idx, (data, labels) = next(data_iter)\n",
    "                # clear the gradient\n",
    "                self.optimizer.zero_grad()\n",
    "                # wrap them in a torch Variable and move tnsors to the configured device\n",
    "                images, labels = Variable(data).to(device), Variable(labels).to(device)                                  \n",
    "                # Forward Pass\n",
    "                target = self.model(data)\n",
    "                # get the predicted class from the maximum value in the output-list of class scores\n",
    "                pred = target.data.max(1, keepdim=True)[1]\n",
    "                predicted = pred.eq(labels.data.view_as(pred))\n",
    "                # Count the correct\n",
    "                correct += predicted.sum()\n",
    "                # Find the Loss\n",
    "                loss = self.criterion(target, labels)\n",
    "#                 loss = F.nll_loss(target, labels)\n",
    "                # Backward Pass\n",
    "                # Calculate gradients\n",
    "                loss.backward()\n",
    "                # Update Weights\n",
    "                self.optimizer.step()\n",
    "                # Calculate total Loss\n",
    "                epoch_loss += loss.item()\n",
    "                # Calculate total samples\n",
    "                total += labels.size(0)\n",
    "                \n",
    "                t_prog_bar.set_description('Epoch {}/{}, Loss: {:.4f}, lr={:.7f}'.format(epoch+1,P.n_epochs,loss.item(),lr))\n",
    "#                 torch.cuda.empty_cache()\n",
    "                del images\n",
    "                del labels\n",
    "                del loss\n",
    "                \n",
    "            valid_loss = 0.0\n",
    "            self.model.eval() # Optional when not using Model Specific layer\n",
    "            with torch.no_grad():\n",
    "                for data, labels in val_loader:\n",
    "                    # Forward Pass\n",
    "                    target = self.model(data)\n",
    "                    # Find the Loss\n",
    "                    loss = self.criterion(target,labels)\n",
    "    #                 loss = F.nll_loss(target,labels)\n",
    "                    # Calculate Loss\n",
    "                    valid_loss += loss.item()\n",
    "                    t_prog_bar.set_description('Epoch {}/{}, Loss: {:.4f}, Val_Loss: {:.4f}, lr={:.7f}'\\\n",
    "                                               .format(epoch+1, P.n_epochs, loss.item(), valid_loss, lr))\n",
    "\n",
    "            #Check point\n",
    "            if min_valid_loss > valid_loss:\n",
    "                print('Validation Loss Decreased ({:.6f} ===> {:.6f}) \\nSaving The Model'.format(min_valid_loss/len(val_loader), \n",
    "                                                                                               valid_loss/len(val_loader)))\n",
    "\n",
    "                min_valid_loss = valid_loss/len(val_loader)\n",
    "\n",
    "            total_loss = epoch_loss/len(train_loader.dataset)\n",
    "            train_error = 1.0 - correct/len(train_loader.dataset)  # 1 - acc\n",
    "            val_error = 1.0 - inference(self.model, val_loader)  # 1 - acc\n",
    "\n",
    "            self.metrics.append(Metric(loss=epoch_loss, \n",
    "                                       train_error=train_error,\n",
    "                                       val_error=val_error))\n",
    "            \n",
    "#             # Decrease the lr\n",
    "#             scheduler.step()"
   ]
  },
  {
   "cell_type": "code",
   "execution_count": 40,
   "id": "7169649e",
   "metadata": {},
   "outputs": [
    {
     "name": "stdout",
     "output_type": "stream",
     "text": [
      "----------------------------------------------------------------\n",
      "        Layer (type)               Output Shape         Param #\n",
      "================================================================\n",
      "            Conv2d-1           [-1, 16, 28, 28]             160\n",
      "       BatchNorm2d-2           [-1, 16, 28, 28]              32\n",
      "             Swish-3           [-1, 16, 28, 28]               0\n",
      "         MaxPool2d-4           [-1, 16, 27, 27]               0\n",
      "            Conv2d-5           [-1, 32, 27, 27]           4,640\n",
      "       BatchNorm2d-6           [-1, 32, 27, 27]              64\n",
      "             Swish-7           [-1, 32, 27, 27]               0\n",
      "         MaxPool2d-8           [-1, 32, 26, 26]               0\n",
      "            Linear-9                   [-1, 10]         216,330\n",
      "================================================================\n",
      "Total params: 221,226\n",
      "Trainable params: 221,226\n",
      "Non-trainable params: 0\n",
      "----------------------------------------------------------------\n",
      "Input size (MB): 0.00\n",
      "Forward/backward pass size (MB): 1.08\n",
      "Params size (MB): 0.84\n",
      "Estimated Total Size (MB): 1.92\n",
      "----------------------------------------------------------------\n"
     ]
    }
   ],
   "source": [
    "#########################################\n",
    "#             Define the model          #\n",
    "#           Define the optimizer        #\n",
    "#           Define the criterion        #\n",
    "#           Show model summary          #\n",
    "#########################################\n",
    "# define the model\n",
    "model = CNNFashionMNIST(P)\n",
    "\n",
    "# define the criterion\n",
    "criterion = nn.CrossEntropyLoss()\n",
    "\n",
    "# define the optimizer\n",
    "optimizer = torch.optim.Adagrad(model.parameters(), lr=P.lr)\n",
    "\n",
    "# define the scheduler (learninig rate decaying)\n",
    "scheduler = torch.optim.lr_scheduler.StepLR(optimizer, step_size=1, gamma=0.1)\n",
    "\n",
    "#summary\n",
    "summary(model, (1, 28, 28))"
   ]
  },
  {
   "cell_type": "code",
   "execution_count": 41,
   "id": "9ada369d",
   "metadata": {},
   "outputs": [
    {
     "name": "stderr",
     "output_type": "stream",
     "text": [
      "Epoch 1/5, Loss: 0.6867, lr=0.0150000: 100%|█████████████████████████████████████████| 480/480 [02:17<00:00,  3.48it/s]\n",
      "Epoch 2/5, Loss: 0.2493, lr=0.0150000: 100%|█████████████████████████████████████████| 480/480 [02:01<00:00,  3.95it/s]\n",
      "Epoch 3/5, Loss: 0.2469, lr=0.0150000: 100%|█████████████████████████████████████████| 480/480 [02:04<00:00,  3.86it/s]\n",
      "Epoch 4/5, Loss: 0.1419, lr=0.0150000: 100%|█████████████████████████████████████████| 480/480 [02:05<00:00,  3.82it/s]\n",
      "Epoch 5/5, Loss: 0.1781, lr=0.0150000: 100%|█████████████████████████████████████████| 480/480 [02:05<00:00,  3.83it/s]\n"
     ]
    }
   ],
   "source": [
    "# start training\n",
    "model_trainer = Trainer(model, optimizer, criterion, None, '')\n",
    "model_trainer.run(train_loader, val_loader)"
   ]
  },
  {
   "cell_type": "code",
   "execution_count": 53,
   "id": "00dfbd0e",
   "metadata": {},
   "outputs": [],
   "source": [
    "# errors = [(model_trainer.metrics[i].train_error.numpy().tolist(), \n",
    "#            model_trainer.metrics[i].val_error) for i in range(len(model_trainer.metrics))]\n",
    "# fig, axes = plt.subplots(1, 1, figsize=(20,8))\n",
    "# axes.plot(errors)\n",
    "# axes.set_title('Training and Validation Loss')\n",
    "# axes.legend(['Train Loss','Validation Loss']);"
   ]
  },
  {
   "cell_type": "markdown",
   "id": "7530faad",
   "metadata": {},
   "source": [
    "> ### It's better !"
   ]
  },
  {
   "cell_type": "markdown",
   "id": "f0aff5bd",
   "metadata": {},
   "source": [
    "### Lets visualize model's output"
   ]
  },
  {
   "cell_type": "code",
   "execution_count": 104,
   "id": "1f1c7d29",
   "metadata": {},
   "outputs": [
    {
     "data": {
      "image/png": "[encoded data removed]",
      "text/plain": [
       "<Figure size 720x720 with 9 Axes>"
      ]
     },
     "metadata": {},
     "output_type": "display_data"
    }
   ],
   "source": [
    "data = enumerate(test_loader)\n",
    "# Show Sample Predictions\n",
    "fig = plt.figure(figsize=(10,10))\n",
    "for i in range(9):\n",
    "    _, (images, labels) = next(data)\n",
    "    idx = np.random.randint(0, P.batch_size, 1)\n",
    "    model.eval()\n",
    "    prediction = model(images[idx])\n",
    "    pred = decode_label(prediction.data.max(1, keepdim=True)[1].item())\n",
    "    act = decode_label(labels[idx])\n",
    "    plt.subplot(3,3,i+1)\n",
    "    plt.tight_layout()\n",
    "    plt.imshow(np.squeeze(images[idx]), cmap='viridis', interpolation='nearest')\n",
    "    plt.title(\"Predicted: {} \\nTrue: {}\".format(pred, act),color=(\"green\" if pred==act else \"red\"))\n",
    "    plt.xticks([])\n",
    "    plt.yticks([])"
   ]
  }
 ],
 "metadata": {
  "kernelspec": {
   "display_name": "Python 3",
   "language": "python",
   "name": "python3"
  },
  "language_info": {
   "codemirror_mode": {
    "name": "ipython",
    "version": 3
   },
   "file_extension": ".py",
   "mimetype": "text/x-python",
   "name": "python",
   "nbconvert_exporter": "python",
   "pygments_lexer": "ipython3",
   "version": "3.8.8"
  }
 },
 "nbformat": 4,
 "nbformat_minor": 5
}
