{
 "cells": [
  {
   "cell_type": "markdown",
   "id": "017d9dfd",
   "metadata": {},
   "source": [
    "## Deep Learning for Fashion-MNIST Clothing Classification (PyTorch)"
   ]
  },
  {
   "cell_type": "markdown",
   "id": "ad3e963a",
   "metadata": {},
   "source": [
    "### Parameter Initialization\n",
    "\n",
    "While training a network, we need to set the weights to values that minimize the convergence between model's output and the training data. And the initial value of the weights plays a significant role here.\n",
    "\n",
    "The initialization step can be critical to the model’s ultimate performance, and it requires the right method.\n",
    "- **Case 0:** Initializing all the weights with `zeros` leads the neurons to learn the same features during training. In fact, any constant initialization scheme will perform very poorly.\n",
    "- **Case 1:** A `too-large` initialization leads to exploding gradients.\n",
    "- **Case 2:** A `too-small` initialization leads to vanishing gradients.\n",
    "\n",
    "To prevent the gradients of the network’s activations from vanishing or exploding, we will stick to the following rules of thumb:\n",
    "\n",
    "- The `mean` of the activations should be `zero`.\n",
    "- The `variance` of the activations should stay the `same across every layer`.\n",
    "\n",
    "**I will try to train the model with `ADAM`, `SGD`, and `RMSProp` optimizers with `normal` and `xavier` ininitialization.**"
   ]
  },
  {
   "cell_type": "markdown",
   "id": "55b32fcc",
   "metadata": {},
   "source": [
    "#### Import the needed functions"
   ]
  },
  {
   "cell_type": "code",
   "execution_count": 42,
   "id": "c431072b",
   "metadata": {},
   "outputs": [],
   "source": [
    "import torch \n",
    "from torch.utils.data import DataLoader\n",
    "from torch.utils.data.sampler import SubsetRandomSampler\n",
    "import torch.nn as nn\n",
    "import torch.nn.functional as F\n",
    "import torchvision\n",
    "from torchvision import transforms, datasets, models\n",
    "import numpy as np\n",
    "from tqdm.notebook import tqdm\n",
    "import matplotlib.pyplot as plt\n",
    "from torch.autograd import Variable\n",
    "from collections import namedtuple\n",
    "from IPython.display import Image\n",
    "\n",
    "device = torch.device('cuda' if torch.cuda.is_available() else 'cpu')\n",
    "%matplotlib inline\n",
    "np.random.seed(1)"
   ]
  },
  {
   "cell_type": "markdown",
   "id": "f9e124e0",
   "metadata": {},
   "source": [
    "#### About the data\n",
    "- 28x28 images\n",
    "- 10 classes\n",
    "- Single color channel (Black&White)\n",
    "- Centered objects\n",
    "- 50000 training set members\n",
    "- 10000 test set members\n",
    "\n",
    "**Create `Fashion class` to download and save the data**"
   ]
  },
  {
   "cell_type": "code",
   "execution_count": 2,
   "id": "4d74be8f",
   "metadata": {},
   "outputs": [],
   "source": [
    "# Fashion Class that enables the Dataset download and basic transformations\n",
    "class Fashion(datasets.FashionMNIST):\n",
    "    def __init__(self, root, train=True, transform=None, target_transform=None, download=False):\n",
    "        self.urls = [\n",
    "            'http://fashion-mnist.s3-website.eu-central-1.amazonaws.com/train-images-idx3-ubyte.gz',\n",
    "            'http://fashion-mnist.s3-website.eu-central-1.amazonaws.com/train-labels-idx1-ubyte.gz',\n",
    "            'http://fashion-mnist.s3-website.eu-central-1.amazonaws.com/t10k-images-idx3-ubyte.gz',\n",
    "            'http://fashion-mnist.s3-website.eu-central-1.amazonaws.com/t10k-labels-idx1-ubyte.gz',\n",
    "        ]\n",
    "        super(Fashion, self).__init__(\n",
    "            root, train=train, transform=transform, target_transform=target_transform, download=download\n",
    "        ) "
   ]
  },
  {
   "cell_type": "markdown",
   "id": "b8f7a789",
   "metadata": {},
   "source": [
    "**Download the `train/test` data**"
   ]
  },
  {
   "cell_type": "code",
   "execution_count": 3,
   "id": "99586475",
   "metadata": {
    "scrolled": true
   },
   "outputs": [],
   "source": [
    "# Downloading the data\n",
    "train_data = Fashion('Torch Data/Torch Fashion', train=True, download=True,\n",
    "                     transform=transforms.Compose([transforms.ToTensor(),\n",
    "                                                   transforms.Normalize((0.1307,), (0.3081,))]))\n",
    "\n",
    "test_data = Fashion('Torch Data/Torch Fashion', train=False, download=True,\n",
    "                     transform=transforms.Compose([transforms.ToTensor(),\n",
    "                                                   transforms.Normalize((0.1307,), (0.3081,))]))"
   ]
  },
  {
   "cell_type": "markdown",
   "id": "32d048e8",
   "metadata": {},
   "source": [
    "**Create `decode_label` function to interpret the model classes**"
   ]
  },
  {
   "cell_type": "code",
   "execution_count": 4,
   "id": "12f01d1a",
   "metadata": {},
   "outputs": [],
   "source": [
    "# return class name\n",
    "def decode_label(l):\n",
    "    return train_data.classes[l]"
   ]
  },
  {
   "cell_type": "markdown",
   "id": "bedd153c",
   "metadata": {},
   "source": [
    "**Create `DataLoader` for the training Pipeline**"
   ]
  },
  {
   "cell_type": "code",
   "execution_count": 5,
   "id": "b352e16a",
   "metadata": {},
   "outputs": [],
   "source": [
    "# Create a data loader for train and test data set\n",
    "# Split the train data loader for train/validation\n",
    "train_size = train_data.data.shape[0]\n",
    "val_size, train_size = int(0.20 * train_size), int(0.80 * train_size) # 80 / 20 train-val split\n",
    "test_size = test_data.data.shape[0]\n",
    "batch_size = 100\n",
    "\n",
    "# Add dataset to dataloader that handles batching\n",
    "train_loader = torch.utils.data.DataLoader(train_data, \n",
    "                                           batch_size=batch_size,\n",
    "                                           sampler=SubsetRandomSampler(np.arange(val_size, val_size+train_size)))\n",
    "val_loader = torch.utils.data.DataLoader(train_data, \n",
    "                                           batch_size=batch_size, \n",
    "                                           sampler=SubsetRandomSampler(np.arange(0, val_size)))\n",
    "test_loader = torch.utils.data.DataLoader(test_data, \n",
    "                                          batch_size=batch_size, \n",
    "                                          shuffle=False)"
   ]
  },
  {
   "cell_type": "markdown",
   "id": "9702d674",
   "metadata": {},
   "source": [
    "### Show random samples of the data"
   ]
  },
  {
   "cell_type": "code",
   "execution_count": 6,
   "id": "6ad89fd7",
   "metadata": {},
   "outputs": [
    {
     "data": {
      "image/png": "[encoded data removed]",
      "text/plain": [
       "<Figure size 864x576 with 12 Axes>"
      ]
     },
     "metadata": {
      "needs_background": "light"
     },
     "output_type": "display_data"
    }
   ],
   "source": [
    "fig, axes = plt.subplots(3, 4, figsize=(12,8))\n",
    "for i in range(12):\n",
    "    idx = np.random.randint(train_data.data.shape[0], size=1)[0]\n",
    "    r, c = i // 4, i % 4\n",
    "    img = train_data.data[idx]\n",
    "    label = decode_label(train_data.targets[idx])\n",
    "    axes[r][c].set_title(label)\n",
    "    axes[r][c].axis('off')\n",
    "    axes[r][c].imshow(img.numpy())\n",
    "    \n",
    "plt.draw()"
   ]
  },
  {
   "cell_type": "markdown",
   "id": "b607bd01",
   "metadata": {},
   "source": [
    "### `NN Model`"
   ]
  },
  {
   "cell_type": "markdown",
   "id": "42058eb6",
   "metadata": {},
   "source": [
    "**`HyperParameters initializer`**"
   ]
  },
  {
   "cell_type": "code",
   "execution_count": 33,
   "id": "a85f1f8a",
   "metadata": {},
   "outputs": [],
   "source": [
    "# Parameter class\n",
    "class Parameters:\n",
    "    def __init__(self):\n",
    "        self.input_shape = 28*28\n",
    "        self.hiddens = [64, 32]\n",
    "        self.num_classes = 10\n",
    "        self.n_epochs = 10\n",
    "        self.lr = 0.01\n",
    "        self.batch_size = 100\n",
    "        self.train_val = 0.8 # 80 / 20 train-val split\n",
    "        self.val_size = val_size\n",
    "        self.train_size = train_size\n",
    "        self.test_size = test_size\n",
    "\n",
    "P = Parameters()"
   ]
  },
  {
   "cell_type": "code",
   "execution_count": 34,
   "id": "cff5b4ad",
   "metadata": {},
   "outputs": [
    {
     "name": "stdout",
     "output_type": "stream",
     "text": [
      "NNFashionMNIST(\n",
      "  (linear1): Linear(in_features=784, out_features=64, bias=True)\n",
      "  (linear2): Linear(in_features=64, out_features=32, bias=True)\n",
      "  (linear3): Linear(in_features=32, out_features=10, bias=True)\n",
      "  (relu): ReLU()\n",
      "  (log_softmax): LogSoftmax(dim=1)\n",
      ")\n"
     ]
    }
   ],
   "source": [
    "class NNFashionMNIST(nn.Module):\n",
    "    def __init__(self, P):\n",
    "        super(NNFashionMNIST, self).__init__()\n",
    "        self.linear1 = nn.Linear(P.input_shape, P.hiddens[0])\n",
    "        self.linear2 = nn.Linear(P.hiddens[0], P.hiddens[1])\n",
    "        self.linear3 = nn.Linear(P.hiddens[1], P.num_classes)\n",
    "        self.relu = nn.ReLU()\n",
    "        self.log_softmax = nn.LogSoftmax(dim = 1)\n",
    "        \n",
    "    def forward(self, x):\n",
    "        out = self.relu(self.linear1(x))\n",
    "        out = self.relu(self.linear2(out))\n",
    "        out = self.linear3(out)\n",
    "        out = self.log_softmax(out)\n",
    "        return out\n",
    "    \n",
    "print(NNFashionMNIST(P))"
   ]
  },
  {
   "cell_type": "markdown",
   "id": "7ca71688",
   "metadata": {},
   "source": [
    "**`Weight initializer`**"
   ]
  },
  {
   "cell_type": "code",
   "execution_count": 35,
   "id": "1b5437a5",
   "metadata": {},
   "outputs": [],
   "source": [
    "# parameter initializer\n",
    "def xavier_init(layer):\n",
    "    if type(layer) == nn.Linear:\n",
    "        feature_in = layer.weight.size(1)\n",
    "        feature_out = layer.weight.size(0)\n",
    "        std = np.sqrt(2.0 / (feature_in+feature_out))\n",
    "        layer.weight.data.normal_(0, std)\n",
    "        \n",
    "# initialize the parameters using \"normal\" distribution\n",
    "def normal_init(m):\n",
    "    if type(m) == nn.Linear:\n",
    "        m.weight.data.normal_(0,1)"
   ]
  },
  {
   "cell_type": "markdown",
   "id": "f3d196b5",
   "metadata": {},
   "source": [
    "**`model inference`**"
   ]
  },
  {
   "cell_type": "code",
   "execution_count": 36,
   "id": "6663bea1",
   "metadata": {},
   "outputs": [],
   "source": [
    "# define a model inference\n",
    "def inference(model, loader, P=P):\n",
    "    model.eval()\n",
    "    with torch.no_grad():\n",
    "        correct = 0\n",
    "        total = 0\n",
    "        for data, labels in loader:\n",
    "            images = Variable(data.view(P.batch_size, -1)).to(device)\n",
    "            labels = Variable(labels).to(device)\n",
    "            output = model(images)\n",
    "            _,predictions = torch.max(output.data, 1)\n",
    "            total += labels.size(0)\n",
    "            correct += (predictions == labels).sum().item()\n",
    "        return correct / total"
   ]
  },
  {
   "cell_type": "markdown",
   "id": "b675e73e",
   "metadata": {},
   "source": [
    "**`Model Trainer`**"
   ]
  },
  {
   "cell_type": "code",
   "execution_count": 43,
   "id": "2db2839f",
   "metadata": {},
   "outputs": [],
   "source": [
    "# define the criterion\n",
    "criterion = nn.CrossEntropyLoss()\n",
    "\n",
    "# Trainer Class\n",
    "class Trainer:\n",
    "    \n",
    "    def __init__(self, model, optimizer, criterion, load_path=None):\n",
    "        self.model = model\n",
    "        self.optimizer = optimizer\n",
    "        self.criterion = criterion\n",
    "        \n",
    "        # if model exist\n",
    "        if load_path:\n",
    "            self.model = torch.load(load_path)\n",
    "        \n",
    "    def save_model(self, path):\n",
    "        torch.save(self.model.state_dict(), path)\n",
    "        \n",
    "    def run(self, train_loader, val_loader, P=P):\n",
    "        ## Setup Metric class\n",
    "        Metric = namedtuple('Metric', ['loss', 'train_error', 'val_error'])\n",
    "#         print(\"Start Training...\")\n",
    "        self.metrics = []\n",
    "        self.model.train() \n",
    "        for epoch in range(P.n_epochs):\n",
    "            epoch_loss = 0.0\n",
    "            correct = 0\n",
    "            data_iter = enumerate(train_loader)\n",
    "            prog_bar = tqdm(range(len(train_loader)))\n",
    "            for step in prog_bar: # iter over batches\n",
    "                batch_idx, (data, labels) = next(data_iter)\n",
    "                # Clear the gradients\n",
    "                self.optimizer.zero_grad()\n",
    "                # Get X, y\n",
    "                images = Variable(data.view(P.batch_size, -1)).to(device)\n",
    "                labels = Variable(labels).to(device)  \n",
    "                # Forward Pass\n",
    "                out = self.model(images)\n",
    "                _, pred = torch.max(out.data, 1)\n",
    "                correct += pred.eq(labels.view_as(pred)).sum()\n",
    "                # Calculate the Loss\n",
    "                loss = self.criterion(out, labels)\n",
    "#                 loss = F.nll_loss(out, labels)\n",
    "                # Calculate the total Loss\n",
    "                epoch_loss += loss.item()\n",
    "                # Calculate gradients\n",
    "                loss.backward()\n",
    "                # Update Weights\n",
    "                self.optimizer.step()\n",
    "                #Check point\n",
    "                prog_bar.set_description('{}: Epoch {}/{}, Loss: {:.4f}' \n",
    "                                         .format(type(self.optimizer).__name__.upper(), epoch+1, P.n_epochs, loss.item()))\n",
    "            total_loss = epoch_loss/P.train_size\n",
    "            train_error = 1.0 - correct/P.train_size  # 1 - acc\n",
    "            val_error = 1.0 - inference(self.model, val_loader)  # 1 - acc\n",
    "#             print(\"epoch: {0}, loss: {1:.8f}\".format(epoch+1, total_loss))\n",
    "            self.metrics.append(Metric(loss=total_loss, \n",
    "                                       train_error=train_error,\n",
    "                                       val_error=val_error))"
   ]
  },
  {
   "cell_type": "markdown",
   "id": "eabba729",
   "metadata": {},
   "source": [
    "\n",
    "**Lets try many initializers and optimizers**"
   ]
  },
  {
   "cell_type": "markdown",
   "id": "654705d7",
   "metadata": {},
   "source": [
    "### 1) Normal initialization"
   ]
  },
  {
   "cell_type": "code",
   "execution_count": 44,
   "id": "9d286224",
   "metadata": {
    "scrolled": true
   },
   "outputs": [
    {
     "name": "stdout",
     "output_type": "stream",
     "text": [
      "Normal INIT WEIGHTS\n"
     ]
    },
    {
     "data": {
      "application/vnd.jupyter.widget-view+json": {
       "model_id": "85410c86cc584f45b293a512f3dbe168",
       "version_major": 2,
       "version_minor": 0
      },
      "text/plain": [
       "  0%|          | 0/480 [00:00<?, ?it/s]"
      ]
     },
     "metadata": {},
     "output_type": "display_data"
    },
    {
     "data": {
      "application/vnd.jupyter.widget-view+json": {
       "model_id": "3b1a45f0548c4ea683e4da1f90767668",
       "version_major": 2,
       "version_minor": 0
      },
      "text/plain": [
       "  0%|          | 0/480 [00:00<?, ?it/s]"
      ]
     },
     "metadata": {},
     "output_type": "display_data"
    },
    {
     "data": {
      "application/vnd.jupyter.widget-view+json": {
       "model_id": "d284fda19b304ceca6ea8ee085927bdb",
       "version_major": 2,
       "version_minor": 0
      },
      "text/plain": [
       "  0%|          | 0/480 [00:00<?, ?it/s]"
      ]
     },
     "metadata": {},
     "output_type": "display_data"
    },
    {
     "data": {
      "application/vnd.jupyter.widget-view+json": {
       "model_id": "aa30646c9a6840c6b28636313bca18cd",
       "version_major": 2,
       "version_minor": 0
      },
      "text/plain": [
       "  0%|          | 0/480 [00:00<?, ?it/s]"
      ]
     },
     "metadata": {},
     "output_type": "display_data"
    },
    {
     "data": {
      "application/vnd.jupyter.widget-view+json": {
       "model_id": "c384be0adbe446c3b100f5aaa6c5e05a",
       "version_major": 2,
       "version_minor": 0
      },
      "text/plain": [
       "  0%|          | 0/480 [00:00<?, ?it/s]"
      ]
     },
     "metadata": {},
     "output_type": "display_data"
    },
    {
     "data": {
      "application/vnd.jupyter.widget-view+json": {
       "model_id": "1c176316febe4964ab26d47a47acac70",
       "version_major": 2,
       "version_minor": 0
      },
      "text/plain": [
       "  0%|          | 0/480 [00:00<?, ?it/s]"
      ]
     },
     "metadata": {},
     "output_type": "display_data"
    },
    {
     "data": {
      "application/vnd.jupyter.widget-view+json": {
       "model_id": "519d897b3f77447a83f546e96ca4f0d7",
       "version_major": 2,
       "version_minor": 0
      },
      "text/plain": [
       "  0%|          | 0/480 [00:00<?, ?it/s]"
      ]
     },
     "metadata": {},
     "output_type": "display_data"
    },
    {
     "data": {
      "application/vnd.jupyter.widget-view+json": {
       "model_id": "6b58dcb0e87a463594cd903e50c312ab",
       "version_major": 2,
       "version_minor": 0
      },
      "text/plain": [
       "  0%|          | 0/480 [00:00<?, ?it/s]"
      ]
     },
     "metadata": {},
     "output_type": "display_data"
    },
    {
     "data": {
      "application/vnd.jupyter.widget-view+json": {
       "model_id": "84f1825d799e4324a0d6333eafe5e3d4",
       "version_major": 2,
       "version_minor": 0
      },
      "text/plain": [
       "  0%|          | 0/480 [00:00<?, ?it/s]"
      ]
     },
     "metadata": {},
     "output_type": "display_data"
    },
    {
     "data": {
      "application/vnd.jupyter.widget-view+json": {
       "model_id": "6a18a1c3f7204c1aa3347ef01b85dc0e",
       "version_major": 2,
       "version_minor": 0
      },
      "text/plain": [
       "  0%|          | 0/480 [00:00<?, ?it/s]"
      ]
     },
     "metadata": {},
     "output_type": "display_data"
    },
    {
     "name": "stdout",
     "output_type": "stream",
     "text": [
      "\n"
     ]
    },
    {
     "data": {
      "application/vnd.jupyter.widget-view+json": {
       "model_id": "09b0903345c14e0f99e9b947aad096a1",
       "version_major": 2,
       "version_minor": 0
      },
      "text/plain": [
       "  0%|          | 0/480 [00:00<?, ?it/s]"
      ]
     },
     "metadata": {},
     "output_type": "display_data"
    },
    {
     "data": {
      "application/vnd.jupyter.widget-view+json": {
       "model_id": "d3c8c7ed46a04bbf90ae1aaf13e519c1",
       "version_major": 2,
       "version_minor": 0
      },
      "text/plain": [
       "  0%|          | 0/480 [00:00<?, ?it/s]"
      ]
     },
     "metadata": {},
     "output_type": "display_data"
    },
    {
     "data": {
      "application/vnd.jupyter.widget-view+json": {
       "model_id": "40caef746ec2410c877d872efb66ac70",
       "version_major": 2,
       "version_minor": 0
      },
      "text/plain": [
       "  0%|          | 0/480 [00:00<?, ?it/s]"
      ]
     },
     "metadata": {},
     "output_type": "display_data"
    },
    {
     "data": {
      "application/vnd.jupyter.widget-view+json": {
       "model_id": "8b5fbb24886a406394bbe1e8f0c4f789",
       "version_major": 2,
       "version_minor": 0
      },
      "text/plain": [
       "  0%|          | 0/480 [00:00<?, ?it/s]"
      ]
     },
     "metadata": {},
     "output_type": "display_data"
    },
    {
     "data": {
      "application/vnd.jupyter.widget-view+json": {
       "model_id": "fe332111b0b842c0ada38cea48b480af",
       "version_major": 2,
       "version_minor": 0
      },
      "text/plain": [
       "  0%|          | 0/480 [00:00<?, ?it/s]"
      ]
     },
     "metadata": {},
     "output_type": "display_data"
    },
    {
     "data": {
      "application/vnd.jupyter.widget-view+json": {
       "model_id": "a311388d1030408086cddc3b5b8ff32a",
       "version_major": 2,
       "version_minor": 0
      },
      "text/plain": [
       "  0%|          | 0/480 [00:00<?, ?it/s]"
      ]
     },
     "metadata": {},
     "output_type": "display_data"
    },
    {
     "data": {
      "application/vnd.jupyter.widget-view+json": {
       "model_id": "ca52b30f9926423c8af16e06317e608e",
       "version_major": 2,
       "version_minor": 0
      },
      "text/plain": [
       "  0%|          | 0/480 [00:00<?, ?it/s]"
      ]
     },
     "metadata": {},
     "output_type": "display_data"
    },
    {
     "data": {
      "application/vnd.jupyter.widget-view+json": {
       "model_id": "2b32d74c2a784c12b25d91e40680f04b",
       "version_major": 2,
       "version_minor": 0
      },
      "text/plain": [
       "  0%|          | 0/480 [00:00<?, ?it/s]"
      ]
     },
     "metadata": {},
     "output_type": "display_data"
    },
    {
     "data": {
      "application/vnd.jupyter.widget-view+json": {
       "model_id": "8a96331a8a1d416f874fc5398eed803c",
       "version_major": 2,
       "version_minor": 0
      },
      "text/plain": [
       "  0%|          | 0/480 [00:00<?, ?it/s]"
      ]
     },
     "metadata": {},
     "output_type": "display_data"
    },
    {
     "data": {
      "application/vnd.jupyter.widget-view+json": {
       "model_id": "a29626e39f634c24a0e3e562658ea68c",
       "version_major": 2,
       "version_minor": 0
      },
      "text/plain": [
       "  0%|          | 0/480 [00:00<?, ?it/s]"
      ]
     },
     "metadata": {},
     "output_type": "display_data"
    },
    {
     "name": "stdout",
     "output_type": "stream",
     "text": [
      "\n"
     ]
    },
    {
     "data": {
      "application/vnd.jupyter.widget-view+json": {
       "model_id": "350aa01f33294fd8883345a2a9e1caba",
       "version_major": 2,
       "version_minor": 0
      },
      "text/plain": [
       "  0%|          | 0/480 [00:00<?, ?it/s]"
      ]
     },
     "metadata": {},
     "output_type": "display_data"
    },
    {
     "data": {
      "application/vnd.jupyter.widget-view+json": {
       "model_id": "5e1b2bb43edc46b9a2687f2bc54a024f",
       "version_major": 2,
       "version_minor": 0
      },
      "text/plain": [
       "  0%|          | 0/480 [00:00<?, ?it/s]"
      ]
     },
     "metadata": {},
     "output_type": "display_data"
    },
    {
     "data": {
      "application/vnd.jupyter.widget-view+json": {
       "model_id": "6aeb62722134400188649ab4820ec2b8",
       "version_major": 2,
       "version_minor": 0
      },
      "text/plain": [
       "  0%|          | 0/480 [00:00<?, ?it/s]"
      ]
     },
     "metadata": {},
     "output_type": "display_data"
    },
    {
     "data": {
      "application/vnd.jupyter.widget-view+json": {
       "model_id": "8b4d839119604058a96668fe652ee160",
       "version_major": 2,
       "version_minor": 0
      },
      "text/plain": [
       "  0%|          | 0/480 [00:00<?, ?it/s]"
      ]
     },
     "metadata": {},
     "output_type": "display_data"
    },
    {
     "data": {
      "application/vnd.jupyter.widget-view+json": {
       "model_id": "46c93e1950e444aaabe39415ea38e5de",
       "version_major": 2,
       "version_minor": 0
      },
      "text/plain": [
       "  0%|          | 0/480 [00:00<?, ?it/s]"
      ]
     },
     "metadata": {},
     "output_type": "display_data"
    },
    {
     "data": {
      "application/vnd.jupyter.widget-view+json": {
       "model_id": "874c794ad946418cb4ddc1a2205dda4e",
       "version_major": 2,
       "version_minor": 0
      },
      "text/plain": [
       "  0%|          | 0/480 [00:00<?, ?it/s]"
      ]
     },
     "metadata": {},
     "output_type": "display_data"
    },
    {
     "data": {
      "application/vnd.jupyter.widget-view+json": {
       "model_id": "78ed0072c73b4f3f9d8a733bf8d7d94f",
       "version_major": 2,
       "version_minor": 0
      },
      "text/plain": [
       "  0%|          | 0/480 [00:00<?, ?it/s]"
      ]
     },
     "metadata": {},
     "output_type": "display_data"
    },
    {
     "data": {
      "application/vnd.jupyter.widget-view+json": {
       "model_id": "a0efcfec16f7416cba1725de2e6faaa9",
       "version_major": 2,
       "version_minor": 0
      },
      "text/plain": [
       "  0%|          | 0/480 [00:00<?, ?it/s]"
      ]
     },
     "metadata": {},
     "output_type": "display_data"
    },
    {
     "data": {
      "application/vnd.jupyter.widget-view+json": {
       "model_id": "d163283035fc4b8a80d524c976f58d14",
       "version_major": 2,
       "version_minor": 0
      },
      "text/plain": [
       "  0%|          | 0/480 [00:00<?, ?it/s]"
      ]
     },
     "metadata": {},
     "output_type": "display_data"
    },
    {
     "data": {
      "application/vnd.jupyter.widget-view+json": {
       "model_id": "ec6fd12e14ae4978b31164909d7f6301",
       "version_major": 2,
       "version_minor": 0
      },
      "text/plain": [
       "  0%|          | 0/480 [00:00<?, ?it/s]"
      ]
     },
     "metadata": {},
     "output_type": "display_data"
    },
    {
     "name": "stdout",
     "output_type": "stream",
     "text": [
      "\n"
     ]
    }
   ],
   "source": [
    "print(\"Normal INIT WEIGHTS\")\n",
    "\n",
    "#==>ADAM OPtimizer\n",
    "# create model instance\n",
    "normal_model = NNFashionMNIST(P)\n",
    "normal_model.apply(normal_init)\n",
    "\n",
    "AdamOptimizer = torch.optim.Adam(normal_model.parameters(), lr=P.lr)\n",
    "normal_Adam_trainer = Trainer(normal_model, AdamOptimizer, criterion, '')\n",
    "normal_Adam_trainer.run(train_loader, val_loader)\n",
    "normal_Adam_trainer.save_model('./Models/normal_model_ADAM.pt')\n",
    "print('')\n",
    "\n",
    "#==>SGD OPtimizer\n",
    "normal_model = NNFashionMNIST(P)\n",
    "normal_model.apply(normal_init)\n",
    "\n",
    "SGDOptimizer = torch.optim.SGD(normal_model.parameters(), lr=P.lr)\n",
    "normal_SGD_trainer = Trainer(normal_model, SGDOptimizer, criterion, '')\n",
    "normal_SGD_trainer.run(train_loader, val_loader)\n",
    "normal_SGD_trainer.save_model('./Models/normal_model_SGD.pt')\n",
    "print('')\n",
    "\n",
    "#==>RMSPROP OPtimizer\n",
    "normal_model = NNFashionMNIST(P)\n",
    "normal_model.apply(normal_init)\n",
    "\n",
    "RMSpropOptimizer = torch.optim.RMSprop(normal_model.parameters(), lr=P.lr)\n",
    "normal_RMSprop_trainer = Trainer(normal_model, RMSpropOptimizer, criterion, '')\n",
    "normal_RMSprop_trainer.run(train_loader, val_loader)\n",
    "normal_RMSprop_trainer.save_model('./Models/normal_model_RMSprop.pt')\n",
    "print('')"
   ]
  },
  {
   "cell_type": "code",
   "execution_count": 45,
   "id": "64039bb9",
   "metadata": {},
   "outputs": [
    {
     "data": {
      "image/png": "[encoded data removed]",
      "text/plain": [
       "<Figure size 1440x576 with 3 Axes>"
      ]
     },
     "metadata": {
      "needs_background": "light"
     },
     "output_type": "display_data"
    }
   ],
   "source": [
    "fig, axes = plt.subplots(1, 3, figsize=(20,8))\n",
    "m = [normal_Adam_trainer.metrics, normal_SGD_trainer.metrics, normal_RMSprop_trainer.metrics]\n",
    "\n",
    "for i, (metrics, opt) in enumerate(zip(m, ['ADAM','SGD','RMSProp'])):\n",
    "    axes[i].plot([metric.loss for metric in metrics], 'b')\n",
    "    axes[i].set_title(f'{opt} Training Loss')"
   ]
  },
  {
   "cell_type": "markdown",
   "id": "f416dc49",
   "metadata": {},
   "source": [
    "#### Models test using train data"
   ]
  },
  {
   "cell_type": "code",
   "execution_count": 46,
   "id": "df465257",
   "metadata": {},
   "outputs": [
    {
     "name": "stdout",
     "output_type": "stream",
     "text": [
      "Test accuracy of model optimizer with Adam: 76.00 %\n",
      "Test accuracy of model optimizer with SGD: 42.50 %\n",
      "Test accuracy of model optimizer with RMSProp: 75.79 %\n"
     ]
    }
   ],
   "source": [
    "model = NNFashionMNIST(P)\n",
    "model.load_state_dict(torch.load('./Models/normal_model_ADAM.pt'))\n",
    "test_acc = inference(model, test_loader)\n",
    "print(\"Test accuracy of model optimizer with Adam: {0:.2f} %\".format(test_acc * 100))\n",
    "\n",
    "model = NNFashionMNIST(P)\n",
    "model.load_state_dict(torch.load('./Models/normal_model_SGD.pt'))\n",
    "test_acc = inference(model, test_loader)\n",
    "print(\"Test accuracy of model optimizer with SGD: {0:.2f} %\".format(test_acc * 100))\n",
    "\n",
    "model = NNFashionMNIST(P)\n",
    "model.load_state_dict(torch.load('./Models/normal_model_RMSprop.pt'))\n",
    "test_acc = inference(model, test_loader)\n",
    "print(\"Test accuracy of model optimizer with RMSProp: {0:.2f} %\".format(test_acc * 100))"
   ]
  },
  {
   "cell_type": "markdown",
   "id": "869f2a03",
   "metadata": {},
   "source": [
    "> #### Of course ADAM Optimizer is the best !!"
   ]
  },
  {
   "cell_type": "markdown",
   "id": "e6c76839",
   "metadata": {},
   "source": [
    "### 2) Xavier initializer"
   ]
  },
  {
   "cell_type": "code",
   "execution_count": 47,
   "id": "1d402bd1",
   "metadata": {
    "scrolled": true
   },
   "outputs": [
    {
     "name": "stdout",
     "output_type": "stream",
     "text": [
      "XAVIER INIT WEIGHTS\n",
      "==>ADAM OPtimizer\n"
     ]
    },
    {
     "data": {
      "application/vnd.jupyter.widget-view+json": {
       "model_id": "11e5e53f03704dd1898784cdcba5a1aa",
       "version_major": 2,
       "version_minor": 0
      },
      "text/plain": [
       "  0%|          | 0/480 [00:00<?, ?it/s]"
      ]
     },
     "metadata": {},
     "output_type": "display_data"
    },
    {
     "data": {
      "application/vnd.jupyter.widget-view+json": {
       "model_id": "d3b40a38dfc0403a8179fe706b2c0592",
       "version_major": 2,
       "version_minor": 0
      },
      "text/plain": [
       "  0%|          | 0/480 [00:00<?, ?it/s]"
      ]
     },
     "metadata": {},
     "output_type": "display_data"
    },
    {
     "data": {
      "application/vnd.jupyter.widget-view+json": {
       "model_id": "69f39c30574548ae942fe62009798cee",
       "version_major": 2,
       "version_minor": 0
      },
      "text/plain": [
       "  0%|          | 0/480 [00:00<?, ?it/s]"
      ]
     },
     "metadata": {},
     "output_type": "display_data"
    },
    {
     "data": {
      "application/vnd.jupyter.widget-view+json": {
       "model_id": "a70e1a4185ca4b5dbb656091e8b061ed",
       "version_major": 2,
       "version_minor": 0
      },
      "text/plain": [
       "  0%|          | 0/480 [00:00<?, ?it/s]"
      ]
     },
     "metadata": {},
     "output_type": "display_data"
    },
    {
     "data": {
      "application/vnd.jupyter.widget-view+json": {
       "model_id": "77ebd82908f2453384c1a32008d4b3f7",
       "version_major": 2,
       "version_minor": 0
      },
      "text/plain": [
       "  0%|          | 0/480 [00:00<?, ?it/s]"
      ]
     },
     "metadata": {},
     "output_type": "display_data"
    },
    {
     "data": {
      "application/vnd.jupyter.widget-view+json": {
       "model_id": "16d0ed54495d409ea4eb0a717e9d9a17",
       "version_major": 2,
       "version_minor": 0
      },
      "text/plain": [
       "  0%|          | 0/480 [00:00<?, ?it/s]"
      ]
     },
     "metadata": {},
     "output_type": "display_data"
    },
    {
     "data": {
      "application/vnd.jupyter.widget-view+json": {
       "model_id": "2924e16a5c0744a5b380927a5a248152",
       "version_major": 2,
       "version_minor": 0
      },
      "text/plain": [
       "  0%|          | 0/480 [00:00<?, ?it/s]"
      ]
     },
     "metadata": {},
     "output_type": "display_data"
    },
    {
     "data": {
      "application/vnd.jupyter.widget-view+json": {
       "model_id": "9e7a41f433b0481b9f3b144afd3f3a6a",
       "version_major": 2,
       "version_minor": 0
      },
      "text/plain": [
       "  0%|          | 0/480 [00:00<?, ?it/s]"
      ]
     },
     "metadata": {},
     "output_type": "display_data"
    },
    {
     "data": {
      "application/vnd.jupyter.widget-view+json": {
       "model_id": "41bd922db4df4b7f9b6bd5717131ab0f",
       "version_major": 2,
       "version_minor": 0
      },
      "text/plain": [
       "  0%|          | 0/480 [00:00<?, ?it/s]"
      ]
     },
     "metadata": {},
     "output_type": "display_data"
    },
    {
     "data": {
      "application/vnd.jupyter.widget-view+json": {
       "model_id": "3809a1e1f5d6483482e9eb34d1f26b1a",
       "version_major": 2,
       "version_minor": 0
      },
      "text/plain": [
       "  0%|          | 0/480 [00:00<?, ?it/s]"
      ]
     },
     "metadata": {},
     "output_type": "display_data"
    },
    {
     "name": "stdout",
     "output_type": "stream",
     "text": [
      "\n",
      "==>SGD OPtimizer\n"
     ]
    },
    {
     "data": {
      "application/vnd.jupyter.widget-view+json": {
       "model_id": "21e853e21592473790ed7c93b2e01e45",
       "version_major": 2,
       "version_minor": 0
      },
      "text/plain": [
       "  0%|          | 0/480 [00:00<?, ?it/s]"
      ]
     },
     "metadata": {},
     "output_type": "display_data"
    },
    {
     "data": {
      "application/vnd.jupyter.widget-view+json": {
       "model_id": "9ef15f579c7a42e58ed2f18f9a881a5f",
       "version_major": 2,
       "version_minor": 0
      },
      "text/plain": [
       "  0%|          | 0/480 [00:00<?, ?it/s]"
      ]
     },
     "metadata": {},
     "output_type": "display_data"
    },
    {
     "data": {
      "application/vnd.jupyter.widget-view+json": {
       "model_id": "c710b77cc50b44238a9e9cddba0dd4cf",
       "version_major": 2,
       "version_minor": 0
      },
      "text/plain": [
       "  0%|          | 0/480 [00:00<?, ?it/s]"
      ]
     },
     "metadata": {},
     "output_type": "display_data"
    },
    {
     "data": {
      "application/vnd.jupyter.widget-view+json": {
       "model_id": "f188559918ae49e1854c2b7185284125",
       "version_major": 2,
       "version_minor": 0
      },
      "text/plain": [
       "  0%|          | 0/480 [00:00<?, ?it/s]"
      ]
     },
     "metadata": {},
     "output_type": "display_data"
    },
    {
     "data": {
      "application/vnd.jupyter.widget-view+json": {
       "model_id": "234e1fca42274a15abe26e8cf13f9d9a",
       "version_major": 2,
       "version_minor": 0
      },
      "text/plain": [
       "  0%|          | 0/480 [00:00<?, ?it/s]"
      ]
     },
     "metadata": {},
     "output_type": "display_data"
    },
    {
     "data": {
      "application/vnd.jupyter.widget-view+json": {
       "model_id": "207aa1f147fa442c9c77ce605b541a28",
       "version_major": 2,
       "version_minor": 0
      },
      "text/plain": [
       "  0%|          | 0/480 [00:00<?, ?it/s]"
      ]
     },
     "metadata": {},
     "output_type": "display_data"
    },
    {
     "data": {
      "application/vnd.jupyter.widget-view+json": {
       "model_id": "27fe7a529d96446c87f1fd151b117501",
       "version_major": 2,
       "version_minor": 0
      },
      "text/plain": [
       "  0%|          | 0/480 [00:00<?, ?it/s]"
      ]
     },
     "metadata": {},
     "output_type": "display_data"
    },
    {
     "data": {
      "application/vnd.jupyter.widget-view+json": {
       "model_id": "c4e31c515af54705bbf9ae6d0f2e8405",
       "version_major": 2,
       "version_minor": 0
      },
      "text/plain": [
       "  0%|          | 0/480 [00:00<?, ?it/s]"
      ]
     },
     "metadata": {},
     "output_type": "display_data"
    },
    {
     "data": {
      "application/vnd.jupyter.widget-view+json": {
       "model_id": "590a62686b3c4e909a05c372e8f0fb04",
       "version_major": 2,
       "version_minor": 0
      },
      "text/plain": [
       "  0%|          | 0/480 [00:00<?, ?it/s]"
      ]
     },
     "metadata": {},
     "output_type": "display_data"
    },
    {
     "data": {
      "application/vnd.jupyter.widget-view+json": {
       "model_id": "32abd77be2184e309d13401e1b833f76",
       "version_major": 2,
       "version_minor": 0
      },
      "text/plain": [
       "  0%|          | 0/480 [00:00<?, ?it/s]"
      ]
     },
     "metadata": {},
     "output_type": "display_data"
    },
    {
     "name": "stdout",
     "output_type": "stream",
     "text": [
      "\n",
      "==>RMSPROP OPtimizer\n"
     ]
    },
    {
     "data": {
      "application/vnd.jupyter.widget-view+json": {
       "model_id": "b3f1e45c27504453bcfd619a1588ed1b",
       "version_major": 2,
       "version_minor": 0
      },
      "text/plain": [
       "  0%|          | 0/480 [00:00<?, ?it/s]"
      ]
     },
     "metadata": {},
     "output_type": "display_data"
    },
    {
     "data": {
      "application/vnd.jupyter.widget-view+json": {
       "model_id": "5ef5665d39c74c488fe7162e753713d8",
       "version_major": 2,
       "version_minor": 0
      },
      "text/plain": [
       "  0%|          | 0/480 [00:00<?, ?it/s]"
      ]
     },
     "metadata": {},
     "output_type": "display_data"
    },
    {
     "data": {
      "application/vnd.jupyter.widget-view+json": {
       "model_id": "709a0d09f5e94693b2a1dd8eb569fc9a",
       "version_major": 2,
       "version_minor": 0
      },
      "text/plain": [
       "  0%|          | 0/480 [00:00<?, ?it/s]"
      ]
     },
     "metadata": {},
     "output_type": "display_data"
    },
    {
     "data": {
      "application/vnd.jupyter.widget-view+json": {
       "model_id": "1717b5ed80e24b1b8e3b407ad33c6c69",
       "version_major": 2,
       "version_minor": 0
      },
      "text/plain": [
       "  0%|          | 0/480 [00:00<?, ?it/s]"
      ]
     },
     "metadata": {},
     "output_type": "display_data"
    },
    {
     "data": {
      "application/vnd.jupyter.widget-view+json": {
       "model_id": "ac0b05428b174c6cbb4d84ccf200b87b",
       "version_major": 2,
       "version_minor": 0
      },
      "text/plain": [
       "  0%|          | 0/480 [00:00<?, ?it/s]"
      ]
     },
     "metadata": {},
     "output_type": "display_data"
    },
    {
     "data": {
      "application/vnd.jupyter.widget-view+json": {
       "model_id": "bb73e13673ef46c9a54f8e28c023b968",
       "version_major": 2,
       "version_minor": 0
      },
      "text/plain": [
       "  0%|          | 0/480 [00:00<?, ?it/s]"
      ]
     },
     "metadata": {},
     "output_type": "display_data"
    },
    {
     "data": {
      "application/vnd.jupyter.widget-view+json": {
       "model_id": "9b73372f86664556a2fce4bcba6e3726",
       "version_major": 2,
       "version_minor": 0
      },
      "text/plain": [
       "  0%|          | 0/480 [00:00<?, ?it/s]"
      ]
     },
     "metadata": {},
     "output_type": "display_data"
    },
    {
     "data": {
      "application/vnd.jupyter.widget-view+json": {
       "model_id": "8288ecb6648342a4a2d015b233c69b85",
       "version_major": 2,
       "version_minor": 0
      },
      "text/plain": [
       "  0%|          | 0/480 [00:00<?, ?it/s]"
      ]
     },
     "metadata": {},
     "output_type": "display_data"
    },
    {
     "data": {
      "application/vnd.jupyter.widget-view+json": {
       "model_id": "e48861d81c37406290991afcbe6ca8c4",
       "version_major": 2,
       "version_minor": 0
      },
      "text/plain": [
       "  0%|          | 0/480 [00:00<?, ?it/s]"
      ]
     },
     "metadata": {},
     "output_type": "display_data"
    },
    {
     "data": {
      "application/vnd.jupyter.widget-view+json": {
       "model_id": "e2d571ffd6074d9fbf393cbc73c530f0",
       "version_major": 2,
       "version_minor": 0
      },
      "text/plain": [
       "  0%|          | 0/480 [00:00<?, ?it/s]"
      ]
     },
     "metadata": {},
     "output_type": "display_data"
    },
    {
     "name": "stdout",
     "output_type": "stream",
     "text": [
      "\n"
     ]
    }
   ],
   "source": [
    "print(\"XAVIER INIT WEIGHTS\")\n",
    "\n",
    "print(\"==>ADAM OPtimizer\")\n",
    "# create model instance\n",
    "xavier_Adam_model = NNFashionMNIST(P)\n",
    "xavier_Adam_model.apply(xavier_init)\n",
    "\n",
    "AdamOptimizer = torch.optim.Adam(xavier_Adam_model.parameters(), lr=P.lr)\n",
    "xavier_Adam_trainer = Trainer(xavier_Adam_model, AdamOptimizer, criterion, '')\n",
    "xavier_Adam_trainer.run(train_loader, val_loader)\n",
    "xavier_Adam_trainer.save_model('./models/xavier_model_ADAM.pt')\n",
    "print('')\n",
    "\n",
    "\n",
    "print(\"==>SGD OPtimizer\")\n",
    "xavier_SGD_model = NNFashionMNIST(P)\n",
    "xavier_SGD_model.apply(xavier_init)\n",
    "\n",
    "SGDOptimizer = torch.optim.SGD(xavier_SGD_model.parameters(), lr=P.lr)\n",
    "xavier_SGD_trainer = Trainer(xavier_SGD_model, SGDOptimizer, criterion, '')\n",
    "xavier_SGD_trainer.run(train_loader, val_loader)\n",
    "xavier_SGD_trainer.save_model('./models/xavier_model_SGD.pt')\n",
    "print('')\n",
    "\n",
    "print(\"==>RMSPROP OPtimizer\")\n",
    "xavier_RMSprop_model = NNFashionMNIST(P)\n",
    "xavier_RMSprop_model.apply(xavier_init)\n",
    "\n",
    "RMSpropOptimizer = torch.optim.RMSprop(xavier_RMSprop_model.parameters(), lr=P.lr)\n",
    "xavier_RMSprop_trainer = Trainer(xavier_RMSprop_model, RMSpropOptimizer, criterion, '')\n",
    "xavier_RMSprop_trainer.run(train_loader, val_loader)\n",
    "xavier_RMSprop_trainer.save_model('./Models/xavier_model_RMSprop.pt')\n",
    "print('')"
   ]
  },
  {
   "cell_type": "code",
   "execution_count": 48,
   "id": "b6c97ca4",
   "metadata": {},
   "outputs": [
    {
     "data": {
      "image/png": "[encoded data removed]",
      "text/plain": [
       "<Figure size 1440x576 with 3 Axes>"
      ]
     },
     "metadata": {
      "needs_background": "light"
     },
     "output_type": "display_data"
    }
   ],
   "source": [
    "fig, axes = plt.subplots(1, 3, figsize=(20,8))\n",
    "m = [xavier_Adam_trainer.metrics, xavier_SGD_trainer.metrics, xavier_RMSprop_trainer.metrics]\n",
    "\n",
    "for i, (metrics, opt) in enumerate(zip(m, ['ADAM','SGD','RMSProp'])):\n",
    "    axes[i].plot([metric.loss for metric in metrics], 'b')\n",
    "    axes[i].set_title(f'{opt} Training Loss')"
   ]
  },
  {
   "cell_type": "markdown",
   "id": "a50c3d78",
   "metadata": {},
   "source": [
    "> ### So, the model converges faster when initializing the weights using xavier initializer."
   ]
  },
  {
   "cell_type": "code",
   "execution_count": 49,
   "id": "f336d33e",
   "metadata": {},
   "outputs": [
    {
     "name": "stdout",
     "output_type": "stream",
     "text": [
      "Test accuracy of model optimizer with Adam: 85.33 %\n",
      "Test accuracy of model optimizer with SGD: 84.64 %\n",
      "Test accuracy of model optimizer with RMSProp: 85.75 %\n"
     ]
    }
   ],
   "source": [
    "model = NNFashionMNIST(P)\n",
    "model.load_state_dict(torch.load('./Models/xavier_model_ADAM.pt'))\n",
    "test_acc = inference(model, test_loader)\n",
    "print(\"Test accuracy of model optimizer with Adam: {0:.2f} %\".format(test_acc * 100))\n",
    "\n",
    "model = NNFashionMNIST(P)\n",
    "model.load_state_dict(torch.load('./Models/xavier_model_SGD.pt'))\n",
    "test_acc = inference(model, test_loader)\n",
    "print(\"Test accuracy of model optimizer with SGD: {0:.2f} %\".format(test_acc * 100))\n",
    "\n",
    "model = NNFashionMNIST(P)\n",
    "model.load_state_dict(torch.load('./Models/xavier_model_RMSprop.pt'))\n",
    "test_acc = inference(model, test_loader)\n",
    "print(\"Test accuracy of model optimizer with RMSProp: {0:.2f} %\".format(test_acc * 100))"
   ]
  },
  {
   "cell_type": "markdown",
   "id": "f8628b54",
   "metadata": {},
   "source": [
    "### Lets enhance the model's performance using CNN architecture"
   ]
  },
  {
   "cell_type": "markdown",
   "id": "2f2f0b8b",
   "metadata": {},
   "source": [
    "### `CNN Model`"
   ]
  },
  {
   "cell_type": "markdown",
   "id": "32305c99",
   "metadata": {},
   "source": [
    "**`Weight initializer`**"
   ]
  },
  {
   "cell_type": "code",
   "execution_count": 50,
   "id": "a0f7a1cd",
   "metadata": {},
   "outputs": [],
   "source": [
    "def weight_init(m):\n",
    "    if isinstance(m, nn.Conv2d):\n",
    "        nn.init.xavier_normal_(m.weight.data)\n",
    "        if m.bias is not None:\n",
    "            nn.init.normal_(m.bias.data)\n",
    "    elif isinstance(m, nn.BatchNorm2d):\n",
    "        nn.init.xavier_normal_(m.weight.data, mean=1, std=0.02)\n",
    "        nn.init.constant_(m.bias.data, 0)\n",
    "    elif isinstance(m, nn.Linear):\n",
    "        nn.init.xavier_normal_(m.weight.data, mean=1, std=0.02)\n",
    "        nn.init.constant_(m.bias.data, 0)"
   ]
  },
  {
   "cell_type": "markdown",
   "id": "9390b38e",
   "metadata": {},
   "source": [
    "**`Swish Activation Function`**"
   ]
  },
  {
   "cell_type": "code",
   "execution_count": 51,
   "id": "02c20f35",
   "metadata": {},
   "outputs": [],
   "source": [
    "class Swish(nn.Module):\n",
    "    def forward(self, input):\n",
    "        return (input * torch.sigmoid(input))\n",
    "    \n",
    "    def __repr__(self):\n",
    "        return self.__class__.__name__ + ' ()'"
   ]
  },
  {
   "cell_type": "markdown",
   "id": "fb5fc373",
   "metadata": {},
   "source": [
    "**`HyperParameters initilizer`**"
   ]
  },
  {
   "cell_type": "code",
   "execution_count": 52,
   "id": "fbb701d8",
   "metadata": {},
   "outputs": [],
   "source": [
    "# Parameter class\n",
    "class Parameters:\n",
    "    def __init__(self):\n",
    "        self.input_shape = (1, 28, 28)\n",
    "        self.hiddens_filters = [16, 32, 64]\n",
    "        self.num_classes = 10\n",
    "        self.n_epochs = 5\n",
    "        self.lr = 0.015\n",
    "        self.batch_size = 100\n",
    "        self.train_val = 0.8 # 80 / 20 train-val split\n",
    "        self.val_size = val_size\n",
    "        self.train_size = train_size\n",
    "        self.test_size = test_size\n",
    "        \n",
    "P = Parameters()"
   ]
  },
  {
   "cell_type": "code",
   "execution_count": 95,
   "id": "26f6e212",
   "metadata": {},
   "outputs": [
    {
     "name": "stdout",
     "output_type": "stream",
     "text": [
      "CNNFashionMNIST(\n",
      "  (layer1): Sequential(\n",
      "    (0): Conv2d(1, 16, kernel_size=(3, 3), stride=(1, 1), padding=(1, 1))\n",
      "    (1): BatchNorm2d(16, eps=1e-05, momentum=0.1, affine=True, track_running_stats=True)\n",
      "    (2): Swish ()\n",
      "    (3): MaxPool2d(kernel_size=2, stride=1, padding=0, dilation=1, ceil_mode=False)\n",
      "  )\n",
      "  (layer2): Sequential(\n",
      "    (0): Conv2d(16, 32, kernel_size=(3, 3), stride=(1, 1), padding=(1, 1))\n",
      "    (1): BatchNorm2d(32, eps=1e-05, momentum=0.1, affine=True, track_running_stats=True)\n",
      "    (2): Swish ()\n",
      "    (3): MaxPool2d(kernel_size=2, stride=1, padding=0, dilation=1, ceil_mode=False)\n",
      "  )\n",
      "  (fc1): Linear(in_features=21632, out_features=10, bias=True)\n",
      "  (softmax): LogSoftmax(dim=1)\n",
      ")\n"
     ]
    }
   ],
   "source": [
    "class CNNFashionMNIST(nn.Module):\n",
    "    \n",
    "    def __init__(self, P):\n",
    "        super(CNNFashionMNIST, self).__init__()\n",
    "        self.ch, self.h, self.w = P.input_shape\n",
    "        self.layer1 = nn.Sequential(\n",
    "            nn.Conv2d(in_channels=self.ch, \n",
    "                      out_channels=P.hiddens_filters[0],\n",
    "                      kernel_size=3, stride=1, padding=1),\n",
    "            nn.BatchNorm2d(P.hiddens_filters[0]),\n",
    "            Swish(),\n",
    "            nn.MaxPool2d(kernel_size=2, stride=1)\n",
    "            \n",
    "        )\n",
    "        \n",
    "        self.layer2 = nn.Sequential(\n",
    "            nn.Conv2d(in_channels=P.hiddens_filters[0], \n",
    "                      out_channels=P.hiddens_filters[1],\n",
    "                      kernel_size=3, stride=1, padding=1),\n",
    "            nn.BatchNorm2d(P.hiddens_filters[1]),\n",
    "            Swish(),\n",
    "            nn.MaxPool2d(kernel_size=2, stride=1)\n",
    "        )\n",
    "        \n",
    "#         self.layer3 = nn.Sequential(\n",
    "#             nn.Conv2d(in_channels=P.hiddens_filters[1], \n",
    "#                       out_channels=P.hiddens_filters[2],\n",
    "#                       kernel_size=3, stride=1, padding=1),\n",
    "#             nn.BatchNorm2d(P.hiddens_filters[2]),\n",
    "#             Swish(),\n",
    "#             nn.MaxPool2d(kernel_size=2, stride=1)\n",
    "#         )\n",
    "        \n",
    "        flatten_shape = self._get_conv_output((self.ch, self.h, self.w))\n",
    "        self.fc1 = nn.Linear(flatten_shape, P.num_classes)\n",
    "        self.softmax = nn.LogSoftmax(dim=1)\n",
    "    \n",
    "    def _get_conv_output(self, shape):\n",
    "        bs = 1\n",
    "        dummy_x = torch.empty(bs, *shape)\n",
    "        x = self._forward_features(dummy_x)\n",
    "        CNN_outshape = x.flatten(1).size(1)\n",
    "        return CNN_outshape\n",
    "\n",
    "    def _forward_features(self, x):\n",
    "        x = self.layer1(x)\n",
    "        x = self.layer2(x)\n",
    "#         x = self.layer3(x)\n",
    "        return x\n",
    "    \n",
    "    def forward(self, x):\n",
    "        out = self.layer1(x)\n",
    "        out = self.layer2(out)\n",
    "#         out = self.layer3(out)\n",
    "        out = out.view(out.size(0), -1)\n",
    "        out = self.fc1(out)\n",
    "#         out = self.drpout(out)\n",
    "#         out = self.fc2(out)\n",
    "#         out = self.drpout(out)\n",
    "        out = self.softmax(out)\n",
    "        return out\n",
    "    \n",
    "print(CNNFashionMNIST(P))"
   ]
  },
  {
   "cell_type": "code",
   "execution_count": 54,
   "id": "a2341c27",
   "metadata": {},
   "outputs": [],
   "source": [
    "# define a model inference\n",
    "def inference(model, loader):\n",
    "    model.eval()\n",
    "    with torch.no_grad():\n",
    "        correct = 0\n",
    "        total = 0\n",
    "        for data, labels in loader:\n",
    "            images = Variable(data).to(device)\n",
    "            labels = Variable(labels).to(device)\n",
    "            output = model(images)\n",
    "            _,predictions = torch.max(output.data, 1)\n",
    "            total += labels.size(0)\n",
    "            correct += (predictions == labels).sum().item()\n",
    "        return correct / total"
   ]
  },
  {
   "cell_type": "markdown",
   "id": "5c932513",
   "metadata": {},
   "source": [
    "**`Model Trainer`**"
   ]
  },
  {
   "cell_type": "code",
   "execution_count": 91,
   "id": "a912b597",
   "metadata": {},
   "outputs": [],
   "source": [
    "## Setup Metric class\n",
    "Metric = namedtuple('Metric', ['loss', 'train_error', 'val_error'])\n",
    "min_valid_loss = np.inf\n",
    "\n",
    "# Trainer Class\n",
    "class Trainer:\n",
    "    \n",
    "    def __init__(self, model, optimizer, criterion, scheduler=None, load_path=None):\n",
    "        self.model = model\n",
    "        self.optimizer = optimizer\n",
    "        self.criterion = criterion\n",
    "        self.scheduler = scheduler\n",
    "        tqdm.refresh\n",
    "        # if model exist\n",
    "        if load_path:\n",
    "            self.model = torch.load(load_path)\n",
    "        \n",
    "    def save_model(self, path):\n",
    "        torch.save(self.model.state_dict(), path)\n",
    "        \n",
    "    def run(self, train_loader, val_loader, P=P):\n",
    "        min_valid_loss = np.inf\n",
    "        ## Setup Metric class\n",
    "        Metric = namedtuple('Metric', ['loss', 'train_error', 'val_error'])\n",
    "#         print(\"Start Training...\")\n",
    "        self.metrics = []\n",
    "        self.model.train() \n",
    "        for epoch in range(P.n_epochs):\n",
    "            epoch_loss = 0.0\n",
    "            correct = 0\n",
    "            total = 0\n",
    "            data_iter = enumerate(train_loader)\n",
    "            t_prog_bar = tqdm(range(len(train_loader)))\n",
    "            lr = self.scheduler.get_last_lr()[0]\n",
    "            for step in t_prog_bar: # iter over batches\n",
    "                \n",
    "                # get the input images and their corresponding labels\n",
    "                batch_idx, (data, labels) = next(data_iter)\n",
    "                # clear the gradient\n",
    "                self.optimizer.zero_grad()\n",
    "                # wrap them in a torch Variable and move tnsors to the configured device\n",
    "                images, labels = Variable(data).to(device), Variable(labels).to(device)                                  \n",
    "                # Forward Pass\n",
    "                target = self.model(data)\n",
    "                # get the predicted class from the maximum value in the output-list of class scores\n",
    "                pred = target.data.max(1, keepdim=True)[1]\n",
    "                predicted = pred.eq(labels.data.view_as(pred))\n",
    "                # Count the correct\n",
    "                correct += predicted.sum()\n",
    "                # Find the Loss\n",
    "                loss = self.criterion(target, labels)\n",
    "#                 loss = F.nll_loss(target, labels)\n",
    "                # Backward Pass\n",
    "                # Calculate gradients\n",
    "                loss.backward()\n",
    "                # Update Weights\n",
    "                self.optimizer.step()\n",
    "                # Calculate total Loss\n",
    "                epoch_loss += loss.item()\n",
    "                # Calculate total samples\n",
    "                total += labels.size(0)\n",
    "                \n",
    "                t_prog_bar.set_description('Epoch {}/{}, Loss: {:.4f}, lr={:.7f}'.format(epoch+1,P.n_epochs,loss.item(),lr))\n",
    "\n",
    "            valid_loss = 0.0\n",
    "#             v_prog_bar = tqdm(range(len(val_loader)))\n",
    "            model.eval() # Optional when not using Model Specific layer\n",
    "            for data, labels in val_loader:\n",
    "                # Forward Pass\n",
    "                target = model(data)\n",
    "                # Find the Loss\n",
    "                loss = self.criterion(target,labels)\n",
    "#                 loss = F.nll_loss(target,labels)\n",
    "                # Calculate Loss\n",
    "                valid_loss += loss.item()\n",
    "        \n",
    "                t_prog_bar.set_description('Epoch {}/{}, Loss: {:.4f}, Val_Loss: {:.4f}, lr={:.7f}'\\\n",
    "                                         .format(epoch+1, P.n_epochs, loss.item(), valid_loss, lr))\n",
    "\n",
    "            #Check point\n",
    "            if min_valid_loss > valid_loss:\n",
    "                print('Validation Loss Decreased ({:.6f} ===> {:.6f}) \\nSaving The Model'.format(min_valid_loss/len(val_loader), \n",
    "                                                                                               valid_loss/len(val_loader)))\n",
    "\n",
    "                min_valid_loss = valid_loss/len(val_loader)\n",
    "\n",
    "            total_loss = epoch_loss/P.train_size\n",
    "            train_error = 1.0 - correct/P.train_size  # 1 - acc\n",
    "            val_error = 1.0 - inference(self.model, val_loader)  # 1 - acc\n",
    "            \n",
    "            self.metrics.append(Metric(loss=epoch_loss, \n",
    "                                       train_error=train_error,\n",
    "                                       val_error=val_error))\n",
    "            \n",
    "            # Decrease the lr\n",
    "            scheduler.step()"
   ]
  },
  {
   "cell_type": "code",
   "execution_count": 93,
   "id": "8b0f5879",
   "metadata": {
    "scrolled": true
   },
   "outputs": [
    {
     "data": {
      "application/vnd.jupyter.widget-view+json": {
       "model_id": "90db8d211b4a4a94b11638c810a550eb",
       "version_major": 2,
       "version_minor": 0
      },
      "text/plain": [
       "  0%|          | 0/480 [00:00<?, ?it/s]"
      ]
     },
     "metadata": {},
     "output_type": "display_data"
    },
    {
     "name": "stdout",
     "output_type": "stream",
     "text": [
      "Validation Loss Decreased (inf ===> 0.727003) \n",
      " Saving The Model\n"
     ]
    },
    {
     "data": {
      "application/vnd.jupyter.widget-view+json": {
       "model_id": "09247bfcb4e24275bbe177f8775bca5d",
       "version_major": 2,
       "version_minor": 0
      },
      "text/plain": [
       "  0%|          | 0/480 [00:00<?, ?it/s]"
      ]
     },
     "metadata": {},
     "output_type": "display_data"
    },
    {
     "data": {
      "application/vnd.jupyter.widget-view+json": {
       "model_id": "8e9e0989fc6f4f50b9e54850c65c371a",
       "version_major": 2,
       "version_minor": 0
      },
      "text/plain": [
       "  0%|          | 0/480 [00:00<?, ?it/s]"
      ]
     },
     "metadata": {},
     "output_type": "display_data"
    },
    {
     "data": {
      "application/vnd.jupyter.widget-view+json": {
       "model_id": "d943221537a24dd583d6249444e946b1",
       "version_major": 2,
       "version_minor": 0
      },
      "text/plain": [
       "  0%|          | 0/480 [00:00<?, ?it/s]"
      ]
     },
     "metadata": {},
     "output_type": "display_data"
    },
    {
     "data": {
      "application/vnd.jupyter.widget-view+json": {
       "model_id": "88f966812bb349719132a87c460ff0a1",
       "version_major": 2,
       "version_minor": 0
      },
      "text/plain": [
       "  0%|          | 0/480 [00:00<?, ?it/s]"
      ]
     },
     "metadata": {},
     "output_type": "display_data"
    }
   ],
   "source": [
    "# define the model\n",
    "model = CNNFashionMNIST(P)\n",
    "# define the criterion\n",
    "criterion = nn.CrossEntropyLoss()\n",
    "# define the optimizer\n",
    "optimizer = torch.optim.Adagrad(model.parameters(), lr=P.lr)\n",
    "# define the scheduler (learninig rate decaying)\n",
    "scheduler = torch.optim.lr_scheduler.StepLR(optimizer, step_size=1, gamma=0.1)\n",
    "# start training\n",
    "model_trainer = Trainer(model, optimizer, criterion, scheduler, '')\n",
    "model_trainer.run(train_loader, val_loader)"
   ]
  },
  {
   "cell_type": "code",
   "execution_count": 98,
   "id": "2fc52f64",
   "metadata": {},
   "outputs": [
    {
     "name": "stdout",
     "output_type": "stream",
     "text": [
      "Test accuracy of CNN model is : 88.85 %\n"
     ]
    }
   ],
   "source": [
    "# save the model\n",
    "model.save_model('./Models/cnn_model.pt')\n",
    "\n",
    "# test the model on the data test\n",
    "model = CNNFashionMNIST(P)\n",
    "model.load_state_dict(torch.load('./Models/cnn_model.pt'))\n",
    "test_acc = inference(model, test_loader)\n",
    "\n",
    "print(\"Test accuracy of CNN model is : {0:.2f} %\".format(test_acc * 100))"
   ]
  },
  {
   "cell_type": "markdown",
   "id": "2b07a87a",
   "metadata": {},
   "source": [
    "> ### It's better !"
   ]
  },
  {
   "cell_type": "markdown",
   "id": "71e6e90b",
   "metadata": {},
   "source": [
    "### Lets visualize model's output"
   ]
  },
  {
   "cell_type": "code",
   "execution_count": 104,
   "id": "9d2dc609",
   "metadata": {},
   "outputs": [
    {
     "data": {
      "image/png": "[encoded data removed]",
      "text/plain": [
       "<Figure size 720x720 with 9 Axes>"
      ]
     },
     "metadata": {},
     "output_type": "display_data"
    }
   ],
   "source": [
    "data = enumerate(test_loader)\n",
    "# Show Sample Predictions\n",
    "fig = plt.figure(figsize=(10,10))\n",
    "for i in range(9):\n",
    "    _, (images, labels) = next(data)\n",
    "    idx = np.random.randint(0, P.batch_size, 1)\n",
    "    model.eval()\n",
    "    prediction = model(images[idx])\n",
    "    pred = decode_label(prediction.data.max(1, keepdim=True)[1].item())\n",
    "    act = decode_label(labels[idx])\n",
    "    plt.subplot(3,3,i+1)\n",
    "    plt.tight_layout()\n",
    "    plt.imshow(np.squeeze(images[idx]), cmap='viridis', interpolation='nearest')\n",
    "    plt.title(\"Predicted: {} \\nTrue: {}\".format(pred, act),color=(\"green\" if pred==act else \"red\"))\n",
    "    plt.xticks([])\n",
    "    plt.yticks([])"
   ]
  }
 ],
 "metadata": {
  "kernelspec": {
   "display_name": "Python 3",
   "language": "python",
   "name": "python3"
  },
  "language_info": {
   "codemirror_mode": {
    "name": "ipython",
    "version": 3
   },
   "file_extension": ".py",
   "mimetype": "text/x-python",
   "name": "python",
   "nbconvert_exporter": "python",
   "pygments_lexer": "ipython3",
   "version": "3.8.8"
  }
 },
 "nbformat": 4,
 "nbformat_minor": 5
}
